{
 "cells": [
  {
   "cell_type": "code",
   "execution_count": null,
   "id": "0f152678-f56b-46d0-a0aa-bb2743159e23",
   "metadata": {},
   "outputs": [],
   "source": [
    "# Create a subset dataset from the Nextflow mapped data"
   ]
  },
  {
   "cell_type": "code",
   "execution_count": null,
   "id": "85b2b2fd-4184-4790-8b80-08402f516f9a",
   "metadata": {},
   "outputs": [],
   "source": [
    "import pandas as pd\n",
    "import numpy as np\n",
    "from matplotlib import pyplot as plt\n",
    "import seaborn as sns\n",
    "import os.path"
   ]
  },
  {
   "cell_type": "code",
   "execution_count": null,
   "id": "2c77125e-55c9-497d-a92d-99d2e828347b",
   "metadata": {},
   "outputs": [],
   "source": [
    "# Setup\n",
    "\n",
    "# Take the first n cell lines / genes\n",
    "number_cell_lines = 10\n",
    "number_genes = 50\n",
    "\n",
    "#Input dataset\n",
    "#expression_data_file = '../Nextflow_mapping/_Nextflow_Quantitation_raw_output/paired_end/salmon.merged.gene_tpm.tsv.gz'\n",
    "expression_data_file = 'salmon.merged.gene_tpm.log2_tmp_plus_1.tsv.gz'"
   ]
  },
  {
   "cell_type": "code",
   "execution_count": null,
   "id": "afae691d-91a1-42e2-8a99-2440585bb19c",
   "metadata": {},
   "outputs": [],
   "source": [
    "# Read in data\n",
    "print(\"Reading in: \" + expression_data_file)\n",
    "expression_data = pd.read_csv(expression_data_file, sep=\"\\t\")\n",
    "print(f'Number of cell lines: {expression_data.shape[1] - 2}')\n",
    "print(f'Number of genes: {expression_data.shape[0]}')"
   ]
  },
  {
   "cell_type": "code",
   "execution_count": null,
   "id": "e80a4bcb-4d16-4300-a54b-50fad627dd0d",
   "metadata": {},
   "outputs": [],
   "source": [
    "# Filter data\n",
    "print(f'Filtering number of cell line to: {number_cell_lines}')\n",
    "print(f'Filtering number of genes to: {number_genes}')\n",
    "expression_data = expression_data.iloc[0:number_genes, 0:number_cell_lines + 2]"
   ]
  },
  {
   "cell_type": "code",
   "execution_count": null,
   "id": "4e3eb046-01a4-41f4-88e8-174db3d2bcd0",
   "metadata": {},
   "outputs": [],
   "source": [
    "# Write out output\n",
    "outfile = os.path.basename(expression_data_file)\n",
    "outfile = outfile.replace('.tsv.gz', '')\n",
    "outfile = f'{outfile}.downsized.tsv.gz'\n",
    "print(f'Writing results to: {outfile}')\n",
    "expression_data.to_csv(outfile, index=False, compression='gzip', sep=\"\\t\")"
   ]
  },
  {
   "cell_type": "code",
   "execution_count": null,
   "id": "195c4510-5bfc-4c7e-8a39-ea3970821be4",
   "metadata": {},
   "outputs": [],
   "source": [
    "print('Done')"
   ]
  },
  {
   "cell_type": "code",
   "execution_count": null,
   "id": "bc66aea3-3920-4c50-888a-d2c6f8e6e6f7",
   "metadata": {},
   "outputs": [],
   "source": []
  }
 ],
 "metadata": {
  "kernelspec": {
   "display_name": "Python 3 (ipykernel)",
   "language": "python",
   "name": "python3"
  },
  "language_info": {
   "codemirror_mode": {
    "name": "ipython",
    "version": 3
   },
   "file_extension": ".py",
   "mimetype": "text/x-python",
   "name": "python",
   "nbconvert_exporter": "python",
   "pygments_lexer": "ipython3",
   "version": "3.8.8"
  }
 },
 "nbformat": 4,
 "nbformat_minor": 5
}
