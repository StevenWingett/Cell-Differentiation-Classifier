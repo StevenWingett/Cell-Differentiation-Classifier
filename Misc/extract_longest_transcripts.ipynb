{
 "cells": [
  {
   "cell_type": "code",
   "execution_count": 1,
   "id": "71c87533-540a-4cab-ac0b-3d479d4e69bf",
   "metadata": {},
   "outputs": [],
   "source": [
    "import pandas as pd\n",
    "import numpy as np"
   ]
  },
  {
   "cell_type": "code",
   "execution_count": 2,
   "id": "17ed485f-61bc-4f9e-8ba2-89e5aeb08f99",
   "metadata": {},
   "outputs": [],
   "source": [
    "# Find longest transcript lookups\n",
    "lookups_file = 'parsed_gtf.tsv.gz'\n",
    "lookups = pd.read_csv(lookups_file, sep=\"\\t\")\n",
    "lookups['ID'] = lookups.index"
   ]
  },
  {
   "cell_type": "code",
   "execution_count": 3,
   "id": "bc55ee0c-1c56-419d-847c-7a5d75dd992a",
   "metadata": {},
   "outputs": [],
   "source": [
    "lookups_all = (lookups\n",
    "                    #.reset_index()\n",
    "                    .loc[:, 'ID']\n",
    "                  )\n",
    "\n",
    "lookups_all = pd.merge(lookups_all, lookups, on='ID')"
   ]
  },
  {
   "cell_type": "code",
   "execution_count": 4,
   "id": "271899fd-2e09-41da-86ef-8b5cbcbcc3ca",
   "metadata": {},
   "outputs": [],
   "source": [
    "# Set expression threshold\n",
    "expression_threshold = 1"
   ]
  },
  {
   "cell_type": "code",
   "execution_count": 5,
   "id": "8c2340bc-e4d0-45e2-8d9f-aaa0c407183c",
   "metadata": {},
   "outputs": [
    {
     "name": "stdout",
     "output_type": "stream",
     "text": [
      "Reading in: classifier_input.tsv.gz\n",
      "Number of different accessions: 328\n",
      "Number of different cell lines: 143\n",
      "Number of different transcripts: 194360\n"
     ]
    }
   ],
   "source": [
    "# Read in expression data\n",
    "expression_datafile = 'classifier_input.tsv.gz'\n",
    "expression_data = pd.read_csv(expression_datafile, sep=\"\\t\")\n",
    "print(\"Reading in: \" + expression_datafile)\n",
    "print(\"Number of different accessions: \" + str(expression_data['Accession'].drop_duplicates().count()))\n",
    "print(\"Number of different cell lines: \" + str(expression_data['Cell_line'].drop_duplicates().count()))\n",
    "print(\"Number of different transcripts: \" + str(expression_data['target_id'].drop_duplicates().count()))"
   ]
  },
  {
   "cell_type": "code",
   "execution_count": 6,
   "id": "6e18c25d-f499-43f1-a146-ef141d3928b8",
   "metadata": {},
   "outputs": [
    {
     "name": "stdout",
     "output_type": "stream",
     "text": [
      "Analysis using:\n",
      "Number of different accessions: 328\n",
      "Number of different cell lines: 143\n",
      "Number of different transcripts: 35629\n"
     ]
    }
   ],
   "source": [
    "# Filtering\n",
    "expression_data_filtered = expression_data[expression_data.target_max_log10_tpm >= expression_threshold]\n",
    "expression_data_filtered =  expression_data_filtered.sort_values(by=['Accession', 'target_id'])    #Useful when re-shaping\n",
    "expression_data_filtered = expression_data_filtered.reset_index()\n",
    "\n",
    "print(\"Analysis using:\")\n",
    "print(\"Number of different accessions: \" + str(expression_data_filtered['Accession'].drop_duplicates().count()))\n",
    "print(\"Number of different cell lines: \" + str(expression_data_filtered['Cell_line'].drop_duplicates().count()))\n",
    "print(\"Number of different transcripts: \" + str(expression_data_filtered['target_id'].drop_duplicates().count()))"
   ]
  },
  {
   "cell_type": "code",
   "execution_count": 7,
   "id": "e2123031-8316-4536-bec5-5dd8c70093ec",
   "metadata": {},
   "outputs": [],
   "source": [
    "# Process all data"
   ]
  },
  {
   "cell_type": "code",
   "execution_count": 8,
   "id": "7e5f78eb-88eb-407f-957a-5b37f996dd26",
   "metadata": {},
   "outputs": [
    {
     "name": "stdout",
     "output_type": "stream",
     "text": [
      "Analysis using:\n",
      "Number of different accessions: 328\n",
      "Number of different cell lines: 143\n",
      "Number of different transcripts: 34011\n"
     ]
    }
   ],
   "source": [
    "# Do lookup of transcripts with genes\n",
    "expression_data_filtered2 = expression_data_filtered.copy()\n",
    "\n",
    "edited_transcript_id_names = expression_data_filtered2['target_id'].str.split(\".\", n=1, expand=True)\n",
    "edited_transcript_id_names = edited_transcript_id_names.iloc[:, 0]\n",
    "\n",
    "expression_data_filtered2.insert(1, \"target_id2\", edited_transcript_id_names)\n",
    "expression_data_filtered2 = expression_data_filtered2.drop(labels='target_id', axis=1)\n",
    "expression_data_filtered2 = expression_data_filtered2.rename(columns={\"target_id2\": \"target_id\"})\n",
    "expression_data_filtered2 = pd.merge(expression_data_filtered2, lookups_all, on='target_id', how='inner')\n",
    "\n",
    "print(\"Analysis using:\")\n",
    "print(\"Number of different accessions: \" + str(expression_data_filtered2['Accession'].drop_duplicates().count()))\n",
    "print(\"Number of different cell lines: \" + str(expression_data_filtered2['Cell_line'].drop_duplicates().count()))\n",
    "print(\"Number of different transcripts: \" + str(expression_data_filtered2['target_id'].drop_duplicates().count()))"
   ]
  },
  {
   "cell_type": "code",
   "execution_count": 9,
   "id": "6a6eb65c-574c-4f4c-8a79-e6dd3eadb4d2",
   "metadata": {},
   "outputs": [],
   "source": [
    "# Log10(TPM+1)\n",
    "data_for_external_analysis = expression_data_filtered2.copy()\n",
    "data_for_external_analysis['Cell_Sample'] = data_for_external_analysis['Cell_line'] + \"_\" + data_for_external_analysis['Accession']\n",
    "\n",
    "data_for_external_analysis = (data_for_external_analysis\n",
    "        .loc[:, ['Cell_Sample', 'target_id', 'log10_tpm']]\n",
    "        .pivot(index=\"target_id\", columns='Cell_Sample', values='log10_tpm')\n",
    "    )\n",
    "\n",
    "data_for_external_analysis = data_for_external_analysis.reset_index()\n",
    "data_for_external_analysis = pd.merge(lookups_all, data_for_external_analysis, on='target_id', how='right')\n",
    "data_for_external_analysis = data_for_external_analysis.reset_index()\n",
    "data_for_external_analysis = data_for_external_analysis.drop(labels='ID', axis=1)\n",
    "data_for_external_analysis = data_for_external_analysis.drop(labels='index', axis=1)\n",
    "data_for_external_analysis = data_for_external_analysis.rename(columns= {'target_id' : 'transcript_id'})\n",
    "\n",
    "data_for_external_analysis = data_for_external_analysis.sort_values(by=['gene_name', 'transcript_length'], ascending=[True, False])\n"
   ]
  },
  {
   "cell_type": "code",
   "execution_count": 10,
   "id": "e7521806-fd9c-433c-a443-7d0c89288737",
   "metadata": {},
   "outputs": [
    {
     "name": "stdout",
     "output_type": "stream",
     "text": [
      "Writing results to: all_transcript_genes_log10_tpm.tsv.gz\n"
     ]
    }
   ],
   "source": [
    "# Write out the result for all transcripts\n",
    "outfile = 'all_transcript_genes_log10_tpm.tsv.gz'\n",
    "print(\"Writing results to: \" + outfile)\n",
    "data_for_external_analysis.to_csv(outfile, index=False, compression='gzip', sep=\"\\t\")"
   ]
  },
  {
   "cell_type": "code",
   "execution_count": 11,
   "id": "6f12044a-bf9d-4041-b2b4-9a6f5e790114",
   "metadata": {},
   "outputs": [],
   "source": [
    "data_for_external_analysis = data_for_external_analysis.reset_index(drop=True)\n",
    "\n",
    "rows_to_select = (data_for_external_analysis\n",
    "                    .loc[:, 'gene_id']\n",
    "                    .drop_duplicates()\n",
    "                    .index\n",
    "                )\n",
    "\n",
    "data_for_external_analysis = data_for_external_analysis.iloc[rows_to_select]\n",
    "data_for_external_analysis = data_for_external_analysis.sort_values(by=['gene_name', 'transcript_length'], ascending=[True, False])"
   ]
  },
  {
   "cell_type": "code",
   "execution_count": 12,
   "id": "09a8e17b-2928-46bb-bdec-f5b746c65763",
   "metadata": {},
   "outputs": [
    {
     "name": "stdout",
     "output_type": "stream",
     "text": [
      "Writing results to: longest_transcript_genes_log10_tpm.tsv.gz\n"
     ]
    }
   ],
   "source": [
    "# Write out the result\n",
    "outfile = 'longest_transcript_genes_log10_tpm.tsv.gz'\n",
    "print(\"Writing results to: \" + outfile)\n",
    "data_for_external_analysis.to_csv(outfile, index=False, compression='gzip', sep=\"\\t\")"
   ]
  },
  {
   "cell_type": "code",
   "execution_count": 13,
   "id": "a6fb219a-2c59-42c8-84cb-0ad7fefe2eaa",
   "metadata": {},
   "outputs": [],
   "source": [
    "# Create a differentiation score table"
   ]
  },
  {
   "cell_type": "code",
   "execution_count": 14,
   "id": "8728551a-80e5-466f-b783-d01ed6863c9f",
   "metadata": {},
   "outputs": [],
   "source": [
    "cell_line_diff_scores = (expression_data\n",
    "                         .loc[:, ['Accession', 'Cell_line', 'Jerber_model_score', 'Diff_efficiency']]\n",
    "                        \n",
    "                        )\n",
    "cell_line_diff_scores['Cell_Sample'] = cell_line_diff_scores['Cell_line'] + \"_\" + cell_line_diff_scores['Accession']\n",
    "\n",
    "cell_line_diff_scores = cell_line_diff_scores.loc[:, ['Cell_Sample', 'Diff_efficiency', 'Jerber_model_score']]\n",
    "\n",
    "cell_line_diff_scores = cell_line_diff_scores.drop_duplicates()"
   ]
  },
  {
   "cell_type": "code",
   "execution_count": 15,
   "id": "552ee934-1062-4f58-8955-818d1ca5f9bd",
   "metadata": {},
   "outputs": [],
   "source": [
    "# Make sure order is the same as data outfile\n",
    "cell_line_order = data_for_external_analysis.columns\n",
    "cell_line_order = cell_line_order[7:]   #Remove non-cell type data\n",
    "cell_line_order = pd.DataFrame(cell_line_order, columns=['Cell_Sample'])\n",
    "cell_line_diff_scores = pd.merge(cell_line_order, cell_line_diff_scores, on='Cell_Sample', how='left')\n",
    "cell_line_diff_scores = cell_line_diff_scores.transpose()\n"
   ]
  },
  {
   "cell_type": "code",
   "execution_count": 16,
   "id": "6b5437d6-315e-420e-9f55-819740f8b7ab",
   "metadata": {},
   "outputs": [
    {
     "name": "stdout",
     "output_type": "stream",
     "text": [
      "Writing results to: cell_line_sample_diff_scores.tsv\n"
     ]
    }
   ],
   "source": [
    "# Write out the result\n",
    "outfile = 'cell_line_sample_diff_scores.tsv'\n",
    "print(\"Writing results to: \" + outfile)\n",
    "cell_line_diff_scores.to_csv(outfile, sep=\"\\t\", header=False)"
   ]
  }
 ],
 "metadata": {
  "kernelspec": {
   "display_name": "Python 3",
   "language": "python",
   "name": "python3"
  },
  "language_info": {
   "codemirror_mode": {
    "name": "ipython",
    "version": 3
   },
   "file_extension": ".py",
   "mimetype": "text/x-python",
   "name": "python",
   "nbconvert_exporter": "python",
   "pygments_lexer": "ipython3",
   "version": "3.8.8"
  }
 },
 "nbformat": 4,
 "nbformat_minor": 5
}
