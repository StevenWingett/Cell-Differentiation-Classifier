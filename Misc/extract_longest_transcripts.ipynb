{
 "cells": [
  {
   "cell_type": "code",
   "execution_count": 1,
   "id": "9d53c76e-caee-40fc-9356-3acb63132409",
   "metadata": {},
   "outputs": [],
   "source": [
    "import pandas as pd\n",
    "import numpy as np"
   ]
  },
  {
   "cell_type": "code",
   "execution_count": 2,
   "id": "83b31c49-27fc-4db0-b9c2-8b9bd7143a81",
   "metadata": {},
   "outputs": [],
   "source": [
    "# Find longest transcript lookups\n",
    "lookups_file = 'parsed_gtf.tsv.gz'\n",
    "lookups = pd.read_csv(lookups_file, sep=\"\\t\")\n",
    "lookups['ID'] = lookups.index"
   ]
  },
  {
   "cell_type": "code",
   "execution_count": 3,
   "id": "8d99356f-4d8b-4250-bd7e-775357dce4df",
   "metadata": {},
   "outputs": [],
   "source": [
    "longest_lookups = (lookups\n",
    "                    .groupby('gene_id')\n",
    "                    .max('transcript_length')\n",
    "                    .reset_index()\n",
    "                    .loc[:, 'ID']\n",
    "                  )\n",
    "\n",
    "lookups = pd.merge(longest_lookups, lookups, on='ID')"
   ]
  },
  {
   "cell_type": "code",
   "execution_count": 4,
   "id": "5cca3867-d60c-4fd3-9a4a-2cbef795c8b9",
   "metadata": {},
   "outputs": [],
   "source": [
    "#Set expression threshold\n",
    "expression_threshold = 1"
   ]
  },
  {
   "cell_type": "code",
   "execution_count": 5,
   "id": "e021b5c5-5bb1-48a9-82bf-2b199d79bd4a",
   "metadata": {},
   "outputs": [
    {
     "name": "stdout",
     "output_type": "stream",
     "text": [
      "Reading in: classifier_input.tsv.gz\n",
      "Number of different accessions: 328\n",
      "Number of different cell lines: 143\n",
      "Number of different transcripts: 194360\n"
     ]
    }
   ],
   "source": [
    "# Read in expression data\n",
    "expression_datafile = 'classifier_input.tsv.gz'\n",
    "expression_data = pd.read_csv(expression_datafile, sep=\"\\t\")\n",
    "print(\"Reading in: \" + expression_datafile)\n",
    "print(\"Number of different accessions: \" + str(expression_data['Accession'].drop_duplicates().count()))\n",
    "print(\"Number of different cell lines: \" + str(expression_data['Cell_line'].drop_duplicates().count()))\n",
    "print(\"Number of different transcripts: \" + str(expression_data['target_id'].drop_duplicates().count()))"
   ]
  },
  {
   "cell_type": "code",
   "execution_count": 6,
   "id": "b275c7ea-017a-4f41-afa3-f8bd6a4e8c03",
   "metadata": {},
   "outputs": [
    {
     "name": "stdout",
     "output_type": "stream",
     "text": [
      "Analysis using:\n",
      "Number of different accessions: 328\n",
      "Number of different cell lines: 143\n",
      "Number of different transcripts: 35629\n"
     ]
    }
   ],
   "source": [
    "#Filtering\n",
    "expression_data_filtered = expression_data[expression_data.target_max_log10_tpm >= expression_threshold]\n",
    "expression_data_filtered =  expression_data_filtered.sort_values(by=['Accession', 'target_id'])    #Useful when re-shaping\n",
    "expression_data_filtered = expression_data_filtered.reset_index()\n",
    "\n",
    "print(\"Analysis using:\")\n",
    "print(\"Number of different accessions: \" + str(expression_data_filtered['Accession'].drop_duplicates().count()))\n",
    "print(\"Number of different cell lines: \" + str(expression_data_filtered['Cell_line'].drop_duplicates().count()))\n",
    "print(\"Number of different transcripts: \" + str(expression_data_filtered['target_id'].drop_duplicates().count()))"
   ]
  },
  {
   "cell_type": "code",
   "execution_count": 9,
   "id": "1a4e62f8-1cd3-415b-b40d-34cf1e078894",
   "metadata": {},
   "outputs": [
    {
     "name": "stdout",
     "output_type": "stream",
     "text": [
      "Analysis using:\n",
      "Number of different accessions: 328\n",
      "Number of different cell lines: 143\n",
      "Number of different transcripts: 3904\n"
     ]
    }
   ],
   "source": [
    "# Filter by longest transcript\n",
    "expression_data_filtered2 = expression_data_filtered.copy()\n",
    "\n",
    "edited_transcript_id_names = expression_data_filtered2['target_id'].str.split(\".\", n=1, expand=True)\n",
    "edited_transcript_id_names = edited_transcript_id_names.iloc[:, 0]\n",
    "\n",
    "expression_data_filtered2.insert(1, \"target_id2\", edited_transcript_id_names)\n",
    "expression_data_filtered2 = expression_data_filtered2.drop(labels='target_id', axis=1)\n",
    "expression_data_filtered2 = expression_data_filtered2.rename(columns={\"target_id2\": \"target_id\"})\n",
    "expression_data_filtered2 = pd.merge(expression_data_filtered2, lookups, on='target_id', how='inner')\n",
    "\n",
    "print(\"Analysis using:\")\n",
    "print(\"Number of different accessions: \" + str(expression_data_filtered2['Accession'].drop_duplicates().count()))\n",
    "print(\"Number of different cell lines: \" + str(expression_data_filtered2['Cell_line'].drop_duplicates().count()))\n",
    "print(\"Number of different transcripts: \" + str(expression_data_filtered2['target_id'].drop_duplicates().count()))"
   ]
  },
  {
   "cell_type": "code",
   "execution_count": 10,
   "id": "dc12d42d-3f4c-4ea0-bd10-7d43d986db04",
   "metadata": {},
   "outputs": [],
   "source": [
    "#Log10(TPM+1)\n",
    "data_for_external_analysis = expression_data_filtered2.copy()\n",
    "data_for_external_analysis['Cell_Sample'] = data_for_external_analysis['Cell_line'] + \"_\" + data_for_external_analysis['Accession']\n",
    "\n",
    "data_for_external_analysis = (data_for_external_analysis\n",
    "        .loc[:, ['Cell_Sample', 'target_id', 'log10_tpm']]\n",
    "        .pivot(index=\"target_id\", columns='Cell_Sample', values='log10_tpm')\n",
    "    )\n",
    "\n",
    "\n",
    "data_for_external_analysis = data_for_external_analysis.reset_index()\n",
    "data_for_external_analysis = pd.merge(lookups, data_for_external_analysis, on='target_id', how='right')\n",
    "data_for_external_analysis = data_for_external_analysis.reset_index()\n",
    "data_for_external_analysis = data_for_external_analysis.drop(labels='ID', axis=1)\n",
    "data_for_external_analysis = data_for_external_analysis.drop(labels='index', axis=1)\n",
    "data_for_external_analysis = data_for_external_analysis.rename(columns= {'target_id' : 'transcript_id'})"
   ]
  },
  {
   "cell_type": "code",
   "execution_count": 11,
   "id": "b50b3f72-94dc-461f-9352-93b14903dc8f",
   "metadata": {},
   "outputs": [
    {
     "name": "stdout",
     "output_type": "stream",
     "text": [
      "Writing results to: transcript_genes_log10_tpm.tsv.gz\n"
     ]
    }
   ],
   "source": [
    "#Write out the result\n",
    "outfile = 'transcript_genes_log10_tpm.tsv.gz'\n",
    "print(\"Writing results to: \" + outfile)\n",
    "data_for_external_analysis.to_csv(outfile, index=False, compression='gzip', sep=\"\\t\")"
   ]
  }
 ],
 "metadata": {
  "kernelspec": {
   "display_name": "Python 3",
   "language": "python",
   "name": "python3"
  },
  "language_info": {
   "codemirror_mode": {
    "name": "ipython",
    "version": 3
   },
   "file_extension": ".py",
   "mimetype": "text/x-python",
   "name": "python",
   "nbconvert_exporter": "python",
   "pygments_lexer": "ipython3",
   "version": "3.8.8"
  }
 },
 "nbformat": 4,
 "nbformat_minor": 5
}
