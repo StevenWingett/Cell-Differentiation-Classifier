{
 "cells": [
  {
   "cell_type": "markdown",
   "id": "2a8618a5-559b-4b40-ac1f-387f70b4e639",
   "metadata": {},
   "source": [
    "# Match Transcripts to Genes\n",
    "Jupyter Notebook to take a file of data which includes a 'target_id' column (corresponding to transcript IDs) and a transcript-gene lookup file (columns:'target_id' and 'gene_id'), and then generated a new file which contains the input data and a new column listing the appropiate gene names."
   ]
  },
  {
   "cell_type": "code",
   "execution_count": null,
   "id": "390e4422-aa6b-4976-aca9-75d329c887ea",
   "metadata": {},
   "outputs": [],
   "source": [
    "import pandas as pd"
   ]
  },
  {
   "cell_type": "markdown",
   "id": "f9b1c790-d56e-41a9-9f19-7e67b8d2d764",
   "metadata": {},
   "source": [
    "## Setup (edit as required)"
   ]
  },
  {
   "cell_type": "code",
   "execution_count": null,
   "id": "855d2894-0dcd-4001-bdc6-fb7c8e3ab69a",
   "metadata": {},
   "outputs": [],
   "source": [
    "# Setup (edit as required)\n",
    "input_data_file = 'input_data.tsv.gz'\n",
    "transcript_gene_lookup_file = 'transcript_gene_lookup.tsv.gz'"
   ]
  },
  {
   "cell_type": "markdown",
   "id": "c646a9ac-9170-4007-8dc9-a5972d77b6e4",
   "metadata": {},
   "source": [
    "## Read in results"
   ]
  },
  {
   "cell_type": "code",
   "execution_count": null,
   "id": "cc4844b5-c491-4fff-9157-47a9a2c6ad4f",
   "metadata": {},
   "outputs": [],
   "source": [
    "# Read in results\n",
    "input_data = pd.read_csv(input_data_file, sep=\"\\t\")\n",
    "print(\"Reading in: \" + input_data_file)\n",
    "\n",
    "transcript_gene_lookup = pd.read_csv(transcript_gene_lookup_file, sep=\"\\t\")\n",
    "print(\"Reading in: \" + transcript_gene_lookup_file)"
   ]
  },
  {
   "cell_type": "code",
   "execution_count": null,
   "id": "fce02e94-a66c-41b2-850c-c7c30b9532c6",
   "metadata": {},
   "outputs": [],
   "source": [
    "# Check for duplicate gene names in lookup file\n",
    "# A gene may have many associated transcripts, but a transcript should not\n",
    "# be associated with more than one gene.\n",
    "transcript_count = transcript_gene_lookup.shape[0]\n",
    "transcript_unique_count = (transcript_gene_lookup\n",
    "                        .loc[:, 'target_id']\n",
    "                        .drop_duplicates()\n",
    "                        .shape[0]\n",
    "                    )\n",
    "\n",
    "if(transcript_count != transcript_unique_count):\n",
    "    print(\"Warning: Identical GeneIDs present multiple times in \" + transcript_gene_lookup_file)"
   ]
  },
  {
   "cell_type": "markdown",
   "id": "d21aa6b4-f953-4f86-964e-f156f5f9fe32",
   "metadata": {},
   "source": [
    "## Processing"
   ]
  },
  {
   "cell_type": "code",
   "execution_count": null,
   "id": "1127b045-d8a1-4b85-9651-ac79894e9839",
   "metadata": {},
   "outputs": [],
   "source": [
    "not_found_lookups = (input_data\n",
    "                     .loc[:, 'target_id']\n",
    "                     .isin(transcript_gene_lookup['target_id'])\n",
    "                    )\n",
    "\n",
    "not_found_lookups = not_found_lookups != True\n",
    "\n",
    "if(not_found_lookups.sum() == 0):\n",
    "    print('Good news: all trancript IDs in ' + input_data_file + ' found in ' + transcript_gene_lookup_file)\n",
    "else:\n",
    "    print('Warning: not all trancript IDs in ' + input_data_file + ' found in ' + transcript_gene_lookup_file + ':')\n",
    "    not_found_lookups = input_data[not_found_lookups].loc[:, 'target_id']\n",
    "    print(not_found_lookups)\n",
    "    "
   ]
  },
  {
   "cell_type": "code",
   "execution_count": null,
   "id": "3afa6b4f-70cd-4248-97a8-1fdf9b9573ec",
   "metadata": {},
   "outputs": [],
   "source": [
    "# Merge data\n",
    "input_data_file = pd.merge(input_data, transcript_gene_lookup, on=\"target_id\", how='left')"
   ]
  },
  {
   "cell_type": "code",
   "execution_count": null,
   "id": "79fb9d1b-8521-4a87-9ab1-2265acbbdeec",
   "metadata": {},
   "outputs": [],
   "source": [
    "# Write out the results\n",
    "outfile = \"merged_by_transcript_gene_ids.tsv.gz\"\n",
    "print(\"Writing results to: \" + outfile)\n",
    "input_data_file.to_csv(outfile, index=False, compression='gzip', sep=\"\\t\")"
   ]
  }
 ],
 "metadata": {
  "kernelspec": {
   "display_name": "Python 3",
   "language": "python",
   "name": "python3"
  },
  "language_info": {
   "codemirror_mode": {
    "name": "ipython",
    "version": 3
   },
   "file_extension": ".py",
   "mimetype": "text/x-python",
   "name": "python",
   "nbconvert_exporter": "python",
   "pygments_lexer": "ipython3",
   "version": "3.8.8"
  }
 },
 "nbformat": 4,
 "nbformat_minor": 5
}
