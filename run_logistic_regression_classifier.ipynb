{
 "cells": [
  {
   "cell_type": "code",
   "execution_count": null,
   "id": "1fdcb299-e4b7-41a8-a27b-b7145f141bf2",
   "metadata": {},
   "outputs": [],
   "source": [
    "# Run Logistic Regression Classifier Model to Predict Expression Status"
   ]
  },
  {
   "cell_type": "code",
   "execution_count": null,
   "id": "8abf811a-98e0-42a7-9bbb-9e6a25b0037e",
   "metadata": {},
   "outputs": [],
   "source": [
    "import pandas as pd\n",
    "import numpy as np\n",
    "from matplotlib import pyplot as plt\n",
    "import seaborn as sns\n",
    "import math"
   ]
  },
  {
   "cell_type": "markdown",
   "id": "a022e1f3-25d8-4da3-8607-7283a0de8b4e",
   "metadata": {},
   "source": [
    "## Setup(edit as required)"
   ]
  },
  {
   "cell_type": "code",
   "execution_count": null,
   "id": "56715d5b-54e1-44c3-8283-9edc5c84b5cb",
   "metadata": {},
   "outputs": [],
   "source": [
    "# Setup (edit as required)\n",
    "expression_datafile = 'input.tsv.gz'\n",
    "differentiation_threshold = 0.2  #Set in paper\n",
    "coefficents_file = 'logistic_regression_coefficients.tsv'"
   ]
  },
  {
   "cell_type": "code",
   "execution_count": null,
   "id": "2a0fb093-81aa-4a5b-8192-cbd816ed89ed",
   "metadata": {},
   "outputs": [],
   "source": [
    "## Data overview and QC"
   ]
  },
  {
   "cell_type": "code",
   "execution_count": null,
   "id": "f8a1c9cf-338a-434d-82b6-857c14a7f025",
   "metadata": {},
   "outputs": [],
   "source": [
    "# Read in data\n",
    "expression_data = pd.read_csv(expression_datafile, sep=\"\\t\")\n",
    "print(\"Reading in: \" + expression_datafile)\n",
    "print(\"Number of different accessions: \" + str(expression_data['Accession'].drop_duplicates().count()))\n",
    "print(\"Number of different cell lines: \" + str(expression_data['Cell_line'].drop_duplicates().count()))\n",
    "print(\"Number of different transcripts: \" + str(expression_data['target_id'].drop_duplicates().count()))"
   ]
  },
  {
   "cell_type": "code",
   "execution_count": null,
   "id": "eb4111de-33e9-457b-a64d-f0a53acd602f",
   "metadata": {},
   "outputs": [],
   "source": [
    "# Log10 tpm histogram\n",
    "plt.figure(figsize=(8,8))\n",
    "plt.hist(expression_data['log10_tpm'], bins=100)\n",
    "plt.xlabel('Log10(tpm)')\n",
    "plt.ylabel('Frequency')\n",
    "plt.show()"
   ]
  },
  {
   "cell_type": "code",
   "execution_count": null,
   "id": "5b9a9c03-b922-48fd-adc7-766bae776f60",
   "metadata": {},
   "outputs": [],
   "source": [
    "plt.figure(figsize=(8,8))\n",
    "plot=sns.ecdfplot(data=expression_data, \n",
    "                  x=\"log10_tpm\", \n",
    "                  hue=\"Accession\",\n",
    "                 legend=False)"
   ]
  },
  {
   "cell_type": "code",
   "execution_count": null,
   "id": "3ef837a4-9a62-44c0-99d0-347cbee56d80",
   "metadata": {},
   "outputs": [],
   "source": [
    "# Since we are using an already established logistic regression model, the expression\n",
    "# DataFrame my be simplified to only include relevant data\n",
    "expression_data = (expression_data\n",
    "        .loc[:, ['Accession', 'target_id', 'Cell_line', 'log10_tpm']]\n",
    "                  )"
   ]
  },
  {
   "cell_type": "code",
   "execution_count": null,
   "id": "0fe31c35-138a-479b-9f6d-c97f2f66e166",
   "metadata": {},
   "outputs": [],
   "source": [
    "#Create a simplified file in user-friendly format for analysis in other tools (e.g. R, Excel)\n",
    "\n",
    "#Log10(TPM+1)\n",
    "data_for_external_analysis = expression_data\n",
    "data_for_external_analysis['Cell_Sample'] = data_for_external_analysis['Accession'] + \"_\" + data_for_external_analysis['Cell_line']\n",
    "\n",
    "data_for_external_analysis = (data_for_external_analysis\n",
    "        .loc[:, ['Cell_Sample', 'target_id', 'log10_tpm']]\n",
    "        .pivot(index=\"target_id\", columns='Cell_Sample', values='log10_tpm')\n",
    "    )\n",
    "\n",
    "data_for_external_analysis['Cell_Sample'] = data_for_external_analysis.index\n",
    "first_column = data_for_external_analysis.pop('Cell_Sample')\n",
    "data_for_external_analysis.insert(0, 'Cell_Sample', first_column)\n",
    "\n",
    "\n",
    "#Write out the result\n",
    "external_analysis_file = 'external_analysis_data_log10_tpm.tsv.gz'\n",
    "print(\"Writing results to: \" + external_analysis_file)\n",
    "data_for_external_analysis.to_csv(external_analysis_file, index=False, compression='gzip', sep=\"\\t\")\n",
    "\n",
    "del(data_for_external_analysis)\n",
    "del(first_column)"
   ]
  },
  {
   "cell_type": "markdown",
   "id": "9583742a-8f0d-49e3-b146-109332956f36",
   "metadata": {},
   "source": [
    "## Run Logistic Regression Model"
   ]
  },
  {
   "cell_type": "code",
   "execution_count": null,
   "id": "52a493fb-0104-436b-a155-4e211cea4d7c",
   "metadata": {},
   "outputs": [],
   "source": [
    "# Import coefficients\n",
    "print(\"Reading in coefficients file: \" + coefficents_file)\n",
    "coefficients = pd.read_csv(coefficents_file, sep=\"\\t\")"
   ]
  },
  {
   "cell_type": "code",
   "execution_count": null,
   "id": "97fce155-1990-47cf-9761-30bf5e0fb26b",
   "metadata": {},
   "outputs": [],
   "source": [
    "# Extract intercept\n",
    "if(coefficients.loc[0, 'target_id'] != 'INTERCEPT'):\n",
    "    print(\"Intercept not found in \" + coefficents_file)\n",
    "intercept = coefficients.loc[0, 'coefficient']\n",
    "    \n",
    "coefficients.drop(axis=0, index=0, inplace=True)    \n"
   ]
  },
  {
   "cell_type": "code",
   "execution_count": null,
   "id": "7461a1e1-6006-4a7b-b6bf-56434a6e28ca",
   "metadata": {},
   "outputs": [],
   "source": [
    "# Merge Coefficients data with expression data\n",
    "coefficient_transcripts = (coefficients\n",
    "                               .loc[:, \"target_id\"]\n",
    "                               .drop_duplicates()\n",
    "                          )\n",
    "\n",
    "expression_transcripts = (expression_data\n",
    "                            .loc[:, \"target_id\"]\n",
    "                            .drop_duplicates()\n",
    "                          )\n",
    "\n",
    "not_found_coefficients = coefficient_transcripts[coefficient_transcripts.isin(expression_transcripts)==False]\n",
    "\n",
    "if(not_found_coefficients.size == 0):\n",
    "    print(\"Good news: all logistic regression coefficients found in expression data\")\n",
    "    expression_data = pd.merge(expression_data, coefficients, how=\"inner\", on=\"target_id\")\n",
    "else:\n",
    "    print(\"Warning: coefficients missing in input expression data:\")\n",
    "    print(not_found_coefficients)\n",
    "\n",
    "    "
   ]
  },
  {
   "cell_type": "code",
   "execution_count": null,
   "id": "882208da-2a60-4830-904a-6ec993053aaa",
   "metadata": {},
   "outputs": [],
   "source": [
    "# Calculate P(differentiated) for each accession\n",
    "\n",
    "# Calculate Z-scores using the mean and stdev from the pre-computed logistric regression model\n",
    "expression_data['z_score'] = (expression_data['log10_tpm'] -  expression_data['target_mean_log10_tpm']) / expression_data['target_StdDev_log10_tpm']\n",
    "\n",
    "#Mutiply z-score by coefficients\n",
    "expression_data['weighting'] = expression_data['z_score'] * expression_data['coefficient']\n",
    "\n",
    "# Sum weightings\n",
    "weightings = (expression_data\n",
    "              .loc[:, [\"Accession\", \"weighting\"]]\n",
    "              .groupby(by='Accession')\n",
    "              .sum()\n",
    "             )\n",
    "\n",
    "weightings['Accession'] = weightings.index\n",
    "weightings = weightings.reset_index(drop=True)\n",
    "\n",
    "#Add intercept value\n",
    "weightings[\"weighting_plus_intercept\"] = weightings[\"weighting\"] + intercept\n",
    "\n",
    "\n",
    "#Calculate probability\n",
    "#P(t) = 1 / (1 + e^(-t))\n",
    "weightings[\"p(differentiated)\"] = 1 - weightings[\"weighting_plus_intercept\"]\n",
    "weightings[\"p(differentiated)\"] = weightings[\"p(differentiated)\"].apply(lambda x: math.exp(x))\n",
    "weightings[\"p(differentiated)\"] = 1 / (1 + weightings[\"p(differentiated)\"])\n",
    "\n",
    "weightings[\"Differentiated\"] = weightings[\"p(differentiated)\"] >= 0.5\n",
    "\n",
    "weightings = (weightings\n",
    "               .loc[:, [\"Accession\", \"p(differentiated)\", \"Differentiated\"]]\n",
    "             )\n",
    "\n",
    "results = weightings\n",
    "del(weightings)\n",
    "\n",
    "results = results.sort_values(by=\"p(differentiated)\", axis=0, ascending=False)"
   ]
  },
  {
   "cell_type": "code",
   "execution_count": null,
   "id": "74b76862-50f4-46d4-ac42-cc0faabd49b8",
   "metadata": {},
   "outputs": [],
   "source": [
    "#Plot results\n",
    "plt.figure(figsize=(10, 10))\n",
    "sns.set_theme(style=\"whitegrid\")\n",
    "ax = sns.barplot(x=\"Accession\", \n",
    "                 y=\"p(differentiated)\",\n",
    "                 color=\"teal\",\n",
    "                 data=results)\n",
    "plt.ylim(0, 1)\n",
    "plt.xticks(rotation=90)\n",
    "plt.axhline(y=0.5, color='black', linestyle='--')\n",
    "plt.show()"
   ]
  }
 ],
 "metadata": {
  "kernelspec": {
   "display_name": "Python 3",
   "language": "python",
   "name": "python3"
  },
  "language_info": {
   "codemirror_mode": {
    "name": "ipython",
    "version": 3
   },
   "file_extension": ".py",
   "mimetype": "text/x-python",
   "name": "python",
   "nbconvert_exporter": "python",
   "pygments_lexer": "ipython3",
   "version": "3.8.8"
  }
 },
 "nbformat": 4,
 "nbformat_minor": 5
}
