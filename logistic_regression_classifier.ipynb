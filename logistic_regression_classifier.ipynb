{
 "cells": [
  {
   "cell_type": "markdown",
   "id": "3df5533d-1211-4854-9ecb-06dababda527",
   "metadata": {},
   "source": [
    "# Logistic Regression Classifier of Differentiation in Cell Lines using Expression Data"
   ]
  },
  {
   "cell_type": "code",
   "execution_count": null,
   "id": "8abf811a-98e0-42a7-9bbb-9e6a25b0037e",
   "metadata": {},
   "outputs": [],
   "source": [
    "import pandas as pd\n",
    "import numpy as np\n",
    "from matplotlib import pyplot as plt\n",
    "import seaborn as sns\n",
    "from sklearn.linear_model import LogisticRegression\n",
    "from sklearn.model_selection import train_test_split\n",
    "from sklearn import preprocessing\n",
    "import sklearn.metrics as metrics\n",
    "from sklearn.metrics import accuracy_score\n",
    "from sklearn.metrics import cohen_kappa_score\n",
    "from sklearn.metrics import confusion_matrix\n",
    "from sklearn.model_selection import LeaveOneOut\n",
    "from sklearn.model_selection import cross_val_score\n",
    "from sklearn.model_selection import cross_val_predict"
   ]
  },
  {
   "cell_type": "markdown",
   "id": "a022e1f3-25d8-4da3-8607-7283a0de8b4e",
   "metadata": {},
   "source": [
    "## Setup(edit as required)"
   ]
  },
  {
   "cell_type": "code",
   "execution_count": null,
   "id": "56715d5b-54e1-44c3-8283-9edc5c84b5cb",
   "metadata": {},
   "outputs": [],
   "source": [
    "# Setup (edit as required)\n",
    "expression_datafile = 'classifier_input.tsv.gz'\n",
    "retention_groups_to_process = (0, )    #Tuple of all retention groups to include (remember trailing comma)\n",
    "expression_threshold = 2.75\n",
    "differentiation_threshold = 0.2  #Set in paper"
   ]
  },
  {
   "cell_type": "markdown",
   "id": "a14563d3-a974-4b81-81ea-8852d9e37045",
   "metadata": {},
   "source": [
    "## Data overview"
   ]
  },
  {
   "cell_type": "code",
   "execution_count": null,
   "id": "f8a1c9cf-338a-434d-82b6-857c14a7f025",
   "metadata": {},
   "outputs": [],
   "source": [
    "# Read in data\n",
    "expression_data = pd.read_csv(expression_datafile, sep=\"\\t\")\n",
    "print(\"Reading in: \" + expression_datafile)\n",
    "print(\"Number of different accessions: \" + str(expression_data['Accession'].drop_duplicates().count()))\n",
    "print(\"Number of different cell lines: \" + str(expression_data['Cell_line'].drop_duplicates().count()))\n",
    "print(\"Number of different transcripts: \" + str(expression_data['target_id'].drop_duplicates().count()))"
   ]
  },
  {
   "cell_type": "code",
   "execution_count": null,
   "id": "eb4111de-33e9-457b-a64d-f0a53acd602f",
   "metadata": {},
   "outputs": [],
   "source": [
    "# Log10 tpm histogram\n",
    "plt.figure(figsize=(8,8))\n",
    "plt.hist(expression_data['log10_tpm'], bins=100)\n",
    "plt.xlabel('Log10(tpm)')\n",
    "plt.ylabel('Frequency')\n",
    "plt.show()"
   ]
  },
  {
   "cell_type": "code",
   "execution_count": null,
   "id": "5b9a9c03-b922-48fd-adc7-766bae776f60",
   "metadata": {},
   "outputs": [],
   "source": [
    "plt.figure(figsize=(8,8))\n",
    "plot=sns.ecdfplot(data=expression_data, \n",
    "                  x=\"log10_tpm\", \n",
    "                  hue=\"Accession\",\n",
    "                 legend=False)"
   ]
  },
  {
   "cell_type": "code",
   "execution_count": null,
   "id": "e7cb727f-4f77-424a-b90a-148a9e4a7600",
   "metadata": {},
   "outputs": [],
   "source": [
    "# Z-score overview\n",
    "plt.figure(figsize=(8,8))\n",
    "plt.hist(expression_data['z_score'], bins=100)\n",
    "plt.xlabel('Z-score')\n",
    "plt.ylabel('Frequency')\n",
    "plt.show()"
   ]
  },
  {
   "cell_type": "code",
   "execution_count": null,
   "id": "048e586a-8f3e-4035-9609-ac57f49e4d1a",
   "metadata": {},
   "outputs": [],
   "source": [
    "# Filter data based on i) cell lines and ii) expression values\n",
    "boolean_series = expression_data['Retention_group'].isin(retention_groups_to_process)\n",
    "expression_data = expression_data[boolean_series]\n",
    "\n",
    "expression_data = expression_data[expression_data.target_max_log10_tpm >= expression_threshold]\n",
    "expression_data =  expression_data.sort_values(by=['Accession', 'target_id'])    #Useful when re-shaping\n",
    "\n",
    "print(\"Analysis using:\")\n",
    "print(\"Number of different accessions: \" + str(expression_data['Accession'].drop_duplicates().count()))\n",
    "print(\"Number of different cell lines: \" + str(expression_data['Cell_line'].drop_duplicates().count()))\n",
    "print(\"Number of different transcripts: \" + str(expression_data['target_id'].drop_duplicates().count()))"
   ]
  },
  {
   "cell_type": "code",
   "execution_count": null,
   "id": "bd3367a2-35b8-4a5b-a309-54e06f2a17e6",
   "metadata": {},
   "outputs": [],
   "source": [
    "# Log10 histogram after filtering\n",
    "plt.figure(figsize=(8,8))\n",
    "plt.hist(expression_data['log10_tpm'], bins=100)\n",
    "plt.xlabel('Log10(tpm)')\n",
    "plt.ylabel('Frequency')\n",
    "plt.show()"
   ]
  },
  {
   "cell_type": "code",
   "execution_count": null,
   "id": "93d89199-e226-4c7a-9d77-3cf06f587cb5",
   "metadata": {},
   "outputs": [],
   "source": [
    "# Cumulative Distribution after filtering\n",
    "plt.figure(figsize=(8,8))\n",
    "plot=sns.ecdfplot(data=expression_data, \n",
    "                  x=\"log10_tpm\", \n",
    "                  hue=\"Accession\",\n",
    "                 legend=False)"
   ]
  },
  {
   "cell_type": "code",
   "execution_count": null,
   "id": "1eae344f-17d8-4f43-a65a-9c44fc8f325b",
   "metadata": {},
   "outputs": [],
   "source": [
    "plt.figure(figsize=(8,8))\n",
    "plt.hist(expression_data['z_score'], bins=100)\n",
    "plt.xlabel('Z-score')\n",
    "plt.ylabel('Frequency')\n",
    "plt.show()"
   ]
  },
  {
   "cell_type": "code",
   "execution_count": null,
   "id": "0bc158ac-ecb9-4d43-a7bb-e07c39d725c3",
   "metadata": {},
   "outputs": [],
   "source": [
    "# Add a column that specifies whether an accession has undergone differentiation\n",
    "expression_data['Differentiated'] = np.where(expression_data['Diff_efficiency'] > differentiation_threshold, 1, 0)"
   ]
  },
  {
   "cell_type": "code",
   "execution_count": null,
   "id": "0fe31c35-138a-479b-9f6d-c97f2f66e166",
   "metadata": {},
   "outputs": [],
   "source": [
    "#Create a simplified file in user-friendly format for analysis in other tools (e.g. R, Excel)\n",
    "\n",
    "#Log10(TPM+1)\n",
    "data_for_external_analysis = expression_data\n",
    "data_for_external_analysis['Cell_Sample'] = data_for_external_analysis['Accession'] + \"_\" + data_for_external_analysis['Cell_line']\n",
    "\n",
    "data_for_external_analysis = (data_for_external_analysis\n",
    "        .loc[:, ['Cell_Sample', 'target_id', 'log10_tpm']]\n",
    "        .pivot(index=\"target_id\", columns='Cell_Sample', values='log10_tpm')\n",
    "    )\n",
    "\n",
    "\n",
    "data_for_external_analysis['Cell_Sample'] = data_for_external_analysis.index\n",
    "first_column = data_for_external_analysis.pop('Cell_Sample')\n",
    "data_for_external_analysis.insert(0, 'Cell_Sample', first_column)\n",
    "\n",
    "\n",
    "#Write out the result\n",
    "external_analysis_file = 'external_analysis_data_log10_tpm.tsv.gz'\n",
    "print(\"Writing results to: \" + external_analysis_file)\n",
    "data_for_external_analysis.to_csv(external_analysis_file, index=False, compression='gzip', sep=\"\\t\")\n",
    "\n",
    "\n",
    "#Z-scores\n",
    "data_for_external_analysis = expression_data\n",
    "data_for_external_analysis['Cell_Sample'] = data_for_external_analysis['Accession'] + \"_\" + data_for_external_analysis['Cell_line']\n",
    "\n",
    "data_for_external_analysis = (data_for_external_analysis\n",
    "        .loc[:, ['Cell_Sample', 'target_id', 'z_score']]\n",
    "        .pivot(index=\"target_id\", columns='Cell_Sample', values='z_score')\n",
    "    )\n",
    "\n",
    "data_for_external_analysis['Cell_Sample'] = data_for_external_analysis.index\n",
    "first_column = data_for_external_analysis.pop('Cell_Sample')\n",
    "data_for_external_analysis.insert(0, 'Cell_Sample', first_column)\n",
    "\n",
    "#Write out the result\n",
    "external_analysis_file = 'external_analysis_data_z_score.tsv.gz'\n",
    "print(\"Writing results to: \" + external_analysis_file)\n",
    "data_for_external_analysis.to_csv(external_analysis_file, index=False, compression='gzip', sep=\"\\t\")\n",
    "\n",
    "del(data_for_external_analysis)\n",
    "del(first_column)"
   ]
  },
  {
   "cell_type": "markdown",
   "id": "ee7c4fbb-1f67-444d-8eb1-0a3a982ddf9e",
   "metadata": {},
   "source": [
    "## Logistic Regression"
   ]
  },
  {
   "cell_type": "code",
   "execution_count": null,
   "id": "381d5b45-bd5f-4f64-97ab-8a8429f8da23",
   "metadata": {},
   "outputs": [],
   "source": [
    "# Use seaborn to plot the class distribution\n",
    "plt.figure(figsize=(8,8))\n",
    "sns.countplot(x='Differentiated', \n",
    "              data=expression_data[['Accession', 'Differentiated']].drop_duplicates())\n",
    "plt.title('Class distribution: 0=Undifferentiated, 1=Differentiated')\n",
    "plt.show()"
   ]
  },
  {
   "cell_type": "code",
   "execution_count": null,
   "id": "9ede57dd-c3ab-4dc2-bc74-39d48b235d78",
   "metadata": {},
   "outputs": [],
   "source": [
    "#Re-shape the expression data to a format usable by ML tools\n",
    "#This creates a standardised datastructure / naming convention where:\n",
    "# X: input parameters\n",
    "# y: target (expected) results (i.e. boolean of whether accession is differentiated)\n",
    "X = (expression_data\n",
    "        .loc[:, ['Accession', 'target_id', 'z_score']]\n",
    "        .pivot(index=\"Accession\", columns='target_id', values='z_score')\n",
    "        .to_numpy()\n",
    "    )\n",
    "\n",
    "#Determine the differentiation scores in a numpy format\n",
    "y = (expression_data\n",
    "        .loc[:, ['Accession', 'Differentiated']]\n",
    "        .drop_duplicates()\n",
    "        .loc[:, 'Differentiated']\n",
    "        .to_numpy()\n",
    "    )"
   ]
  },
  {
   "cell_type": "markdown",
   "id": "d02881e6-6c8a-4b72-b566-0b37c0388c95",
   "metadata": {
    "tags": []
   },
   "source": [
    "## Cross-Validation"
   ]
  },
  {
   "cell_type": "code",
   "execution_count": null,
   "id": "ef7a7095-2f4d-44a4-a260-98f3b7775d51",
   "metadata": {},
   "outputs": [],
   "source": [
    "#Use leave-one-out cross validation technque\n",
    "cross_validation = LeaveOneOut()"
   ]
  },
  {
   "cell_type": "code",
   "execution_count": null,
   "id": "92437714-ca1e-4bf9-91de-da6c88e6214e",
   "metadata": {
    "tags": []
   },
   "outputs": [],
   "source": [
    "lreg = LogisticRegression(solver='liblinear', max_iter=100, penalty='l1')\n",
    "scores = cross_val_score(lreg, X, y, cv=cross_validation)"
   ]
  },
  {
   "cell_type": "code",
   "execution_count": null,
   "id": "f2d0c46e-e257-4cd6-8c32-9706b87e9631",
   "metadata": {},
   "outputs": [],
   "source": [
    "print(\"Logistic regression results:\")\n",
    "print(\"%0.2f accuracy with a standard deviation of %0.2f\" % (scores.mean(), scores.std()))"
   ]
  },
  {
   "cell_type": "code",
   "execution_count": null,
   "id": "910f7bfe-9980-4b48-aa8a-f5a56881c7cc",
   "metadata": {},
   "outputs": [],
   "source": [
    "#Predictions\n",
    "predicted = cross_val_predict(lreg, X, y, cv=cross_validation)\n",
    "predictions_probabilities = cross_val_predict(lreg, X, y, cv=cross_validation, method=\"predict_proba\")\n",
    "predictions_probabilities = predictions_probabilities[0:, 1]"
   ]
  },
  {
   "cell_type": "code",
   "execution_count": null,
   "id": "0f61f6cc-a4ae-4c0d-9a96-e6bc01c3694a",
   "metadata": {},
   "outputs": [],
   "source": [
    "#Confusion matrix\n",
    "cm = confusion_matrix(y, predicted)\n",
    "\n",
    "plt.figure(figsize=(10.5, 7.5))\n",
    "ax = plt.subplot()\n",
    "sns.heatmap(cm, annot=True, ax = ax, cmap=plt.cm.Blues, fmt='g')\n",
    "\n",
    "# labels, title and ticks\n",
    "ax.set_xlabel('Predicted labels')\n",
    "ax.set_ylabel('True labels')\n",
    "ax.set_title('Confusion Matrix')\n",
    "ax.xaxis.set_ticklabels(['Undifferentiated', 'Differentiated'])\n",
    "ax.yaxis.set_ticklabels(['Undifferentiated', 'Differentiated'])\n",
    "\n",
    "plt.show()"
   ]
  },
  {
   "cell_type": "code",
   "execution_count": null,
   "id": "6fdd2118-cc6f-49d4-b5d1-f22783bbafc5",
   "metadata": {},
   "outputs": [],
   "source": [
    "# Calculate accuracy\n",
    "acc = accuracy_score(y, predicted)\n",
    "print('Accuracy: ', acc)\n",
    "\n",
    "# Calculate Cohen's Kappa score\n",
    "cka = cohen_kappa_score(y, predicted)\n",
    "print('Cohen\\'s Kappa: ', cka)"
   ]
  },
  {
   "cell_type": "code",
   "execution_count": null,
   "id": "79da88ca-6699-41d6-bc7f-adc67f0a842b",
   "metadata": {},
   "outputs": [],
   "source": [
    "# Generate a ROC AUC plot\n",
    "fpr, tpr, threshold = metrics.roc_curve(y, predicted)\n",
    "roc_auc = metrics.auc(fpr, tpr)\n",
    "\n",
    "plt.figure(figsize=(8,8))\n",
    "plt.title('Receiver Operating Characteristic')\n",
    "plt.plot(fpr, tpr, label = 'AUC = %0.2f' % roc_auc)\n",
    "plt.plot([0, 1], [0, 1],'r--', label = 'Random chance')\n",
    "plt.xlim([0, 1])\n",
    "plt.ylim([0, 1])\n",
    "plt.ylabel('True Positive Rate')\n",
    "plt.xlabel('False Positive Rate')\n",
    "plt.legend(loc = 'lower right')\n",
    "plt.show()"
   ]
  },
  {
   "cell_type": "code",
   "execution_count": null,
   "id": "783bfc6a-292b-43b3-a602-201df230440f",
   "metadata": {},
   "outputs": [],
   "source": [
    "# Generate a PR plot\n",
    "precision, recall, _ = metrics.precision_recall_curve(y, predicted)\n",
    "\n",
    "plt.figure(figsize=(8, 8))\n",
    "plt.step(recall, precision, where='post')\n",
    "plt.xlabel('Recall')\n",
    "plt.ylabel('Precision')\n",
    "plt.ylim([0.0, 1.05])\n",
    "plt.xlim([0.0, 1.0])\n",
    "plt.show()"
   ]
  },
  {
   "cell_type": "code",
   "execution_count": null,
   "id": "4736cec9-4797-4f45-b34b-b6a434d3a993",
   "metadata": {},
   "outputs": [],
   "source": [
    "#Plot differentition efficiency against predicted values\n",
    "plt.figure(figsize=(14, 10)) \n",
    "real_differentiation_scores = (expression_data\n",
    "                                .loc[:, ['Accession', 'Diff_efficiency', 'Differentiated']]\n",
    "                                .drop_duplicates()\n",
    "                              )\n",
    "\n",
    "\n",
    "\n",
    "plt.scatter(x=real_differentiation_scores['Diff_efficiency'], \n",
    "            y=predictions_probabilities,\n",
    "            c=real_differentiation_scores['Differentiated']\n",
    "           )\n",
    "plt.axhline(y=0.5, color='r', linestyle='--')\n",
    "plt.axvline(x=0.2, color='r', linestyle='--')\n",
    "plt.xlabel('Real Differentiation Score')\n",
    "plt.ylabel('Classifier: p(differentiated)')\n",
    "plt.show()"
   ]
  }
 ],
 "metadata": {
  "kernelspec": {
   "display_name": "Python 3",
   "language": "python",
   "name": "python3"
  },
  "language_info": {
   "codemirror_mode": {
    "name": "ipython",
    "version": 3
   },
   "file_extension": ".py",
   "mimetype": "text/x-python",
   "name": "python",
   "nbconvert_exporter": "python",
   "pygments_lexer": "ipython3",
   "version": "3.8.8"
  }
 },
 "nbformat": 4,
 "nbformat_minor": 5
}
