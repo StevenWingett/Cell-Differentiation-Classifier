{
 "cells": [
  {
   "cell_type": "markdown",
   "id": "3df5533d-1211-4854-9ecb-06dababda527",
   "metadata": {},
   "source": [
    "# Logistic Regression Classifier of Differentiation in Cell Lines using Expression Data"
   ]
  },
  {
   "cell_type": "code",
   "execution_count": null,
   "id": "8abf811a-98e0-42a7-9bbb-9e6a25b0037e",
   "metadata": {},
   "outputs": [],
   "source": [
    "import pandas as pd\n",
    "import numpy as np\n",
    "from matplotlib import pyplot as plt\n",
    "import seaborn as sns\n",
    "from sklearn.linear_model import LogisticRegression\n",
    "from sklearn.model_selection import train_test_split\n",
    "from sklearn import preprocessing\n",
    "import sklearn.metrics as metrics\n",
    "from sklearn.metrics import accuracy_score\n",
    "from sklearn.metrics import cohen_kappa_score\n",
    "from sklearn.metrics import confusion_matrix"
   ]
  },
  {
   "cell_type": "markdown",
   "id": "a022e1f3-25d8-4da3-8607-7283a0de8b4e",
   "metadata": {},
   "source": [
    "## Setup(edit as required)"
   ]
  },
  {
   "cell_type": "code",
   "execution_count": null,
   "id": "56715d5b-54e1-44c3-8283-9edc5c84b5cb",
   "metadata": {},
   "outputs": [],
   "source": [
    "# Setup (edit as required)\n",
    "expression_datafile = 'classifier_input.tsv.gz'\n",
    "retention_groups_to_process = (0, )    #Tuple of all retention groups to include (remember trailing comma)\n",
    "expression_threshold = 2.75\n",
    "differentiation_threshold = 0.2  #Set in paper"
   ]
  },
  {
   "cell_type": "markdown",
   "id": "a14563d3-a974-4b81-81ea-8852d9e37045",
   "metadata": {},
   "source": [
    "## Data overview"
   ]
  },
  {
   "cell_type": "code",
   "execution_count": null,
   "id": "f8a1c9cf-338a-434d-82b6-857c14a7f025",
   "metadata": {},
   "outputs": [],
   "source": [
    "# Read in data\n",
    "expression_data = pd.read_csv(expression_datafile, sep=\"\\t\")\n",
    "print(\"Reading in: \" + expression_datafile)\n",
    "print(\"Number of different accessions: \" + str(expression_data['Accession'].drop_duplicates().count()))\n",
    "print(\"Number of different cell lines: \" + str(expression_data['Cell_line'].drop_duplicates().count()))\n",
    "print(\"Number of different transcripts: \" + str(expression_data['target_id'].drop_duplicates().count()))"
   ]
  },
  {
   "cell_type": "code",
   "execution_count": null,
   "id": "eb4111de-33e9-457b-a64d-f0a53acd602f",
   "metadata": {},
   "outputs": [],
   "source": [
    "# Log10 tpm histogram\n",
    "plt.figure(figsize=(8, 6))\n",
    "plt.hist(expression_data['log10_tpm'], bins=100)\n",
    "plt.xlabel('Log10(tpm)')\n",
    "plt.ylabel('Frequency')\n",
    "plt.show()"
   ]
  },
  {
   "cell_type": "code",
   "execution_count": null,
   "id": "5b9a9c03-b922-48fd-adc7-766bae776f60",
   "metadata": {},
   "outputs": [],
   "source": [
    "plot=sns.ecdfplot(data=expression_data, \n",
    "                  x=\"log10_tpm\", \n",
    "                  hue=\"Accession\",\n",
    "                 legend=False)"
   ]
  },
  {
   "cell_type": "code",
   "execution_count": null,
   "id": "e7cb727f-4f77-424a-b90a-148a9e4a7600",
   "metadata": {},
   "outputs": [],
   "source": [
    "# Z-score overview\n",
    "plt.figure(figsize=(8, 6))\n",
    "plt.hist(expression_data['z_score'], bins=100)\n",
    "plt.xlabel('Z-score')\n",
    "plt.ylabel('Frequency')\n",
    "plt.show()"
   ]
  },
  {
   "cell_type": "code",
   "execution_count": null,
   "id": "048e586a-8f3e-4035-9609-ac57f49e4d1a",
   "metadata": {},
   "outputs": [],
   "source": [
    "# Filter data based on i) cell lines and ii) expression values\n",
    "boolean_series = expression_data['Retention_group'].isin(retention_groups_to_process)\n",
    "expression_data = expression_data[boolean_series]\n",
    "\n",
    "expression_data = expression_data[expression_data.target_max_log10_tpm >= expression_threshold]\n",
    "expression_data =  expression_data.sort_values(by=['Accession', 'target_id'])    #Useful when re-shaping\n",
    "\n",
    "print(\"Analysis using:\")\n",
    "print(\"Number of different accessions: \" + str(expression_data['Accession'].drop_duplicates().count()))\n",
    "print(\"Number of different cell lines: \" + str(expression_data['Cell_line'].drop_duplicates().count()))\n",
    "print(\"Number of different transcripts: \" + str(expression_data['target_id'].drop_duplicates().count()))"
   ]
  },
  {
   "cell_type": "code",
   "execution_count": null,
   "id": "bd3367a2-35b8-4a5b-a309-54e06f2a17e6",
   "metadata": {},
   "outputs": [],
   "source": [
    "# Log10 histogram after filtering\n",
    "plt.figure(figsize=(8, 6))\n",
    "plt.hist(expression_data['log10_tpm'], bins=100)\n",
    "plt.xlabel('Log10(tpm)')\n",
    "plt.ylabel('Frequency')\n",
    "plt.show()"
   ]
  },
  {
   "cell_type": "code",
   "execution_count": null,
   "id": "93d89199-e226-4c7a-9d77-3cf06f587cb5",
   "metadata": {},
   "outputs": [],
   "source": [
    "# Cumulative Distribution after filtering\n",
    "plot=sns.ecdfplot(data=expression_data, \n",
    "                  x=\"log10_tpm\", \n",
    "                  hue=\"Accession\",\n",
    "                 legend=False)"
   ]
  },
  {
   "cell_type": "code",
   "execution_count": null,
   "id": "1eae344f-17d8-4f43-a65a-9c44fc8f325b",
   "metadata": {},
   "outputs": [],
   "source": [
    "plt.figure(figsize=(8, 6))\n",
    "plt.hist(expression_data['z_score'], bins=100)\n",
    "plt.xlabel('Z-score')\n",
    "plt.ylabel('Frequency')\n",
    "plt.show()"
   ]
  },
  {
   "cell_type": "code",
   "execution_count": null,
   "id": "0bc158ac-ecb9-4d43-a7bb-e07c39d725c3",
   "metadata": {},
   "outputs": [],
   "source": [
    "# Add a column that specifies whether an accession has undergone differentiation\n",
    "expression_data['Differentiated'] = np.where(expression_data['Diff_efficiency'] > differentiation_threshold, 1, 0)"
   ]
  },
  {
   "cell_type": "code",
   "execution_count": null,
   "id": "0fe31c35-138a-479b-9f6d-c97f2f66e166",
   "metadata": {},
   "outputs": [],
   "source": [
    "#Create a simplified file in user-friendly format for analysis in other tools (e.g. R, Excel)\n",
    "\n",
    "#Log10(TPM+1)\n",
    "data_for_external_analysis = expression_data\n",
    "data_for_external_analysis['Cell_Sample'] = data_for_external_analysis['Accession'] + \"_\" + data_for_external_analysis['Cell_line']\n",
    "\n",
    "data_for_external_analysis = (data_for_external_analysis\n",
    "        .loc[:, ['Cell_Sample', 'target_id', 'log10_tpm']]\n",
    "        .pivot(index=\"target_id\", columns='Cell_Sample', values='log10_tpm')\n",
    "    )\n",
    "\n",
    "\n",
    "data_for_external_analysis['Cell_Sample'] = data_for_external_analysis.index\n",
    "first_column = data_for_external_analysis.pop('Cell_Sample')\n",
    "data_for_external_analysis.insert(0, 'Cell_Sample', first_column)\n",
    "\n",
    "\n",
    "#Write out the result\n",
    "external_analysis_file = 'external_analysis_data_log10_tpm.tsv.gz'\n",
    "print(\"Writing results to: \" + external_analysis_file)\n",
    "data_for_external_analysis.to_csv(external_analysis_file, index=False, compression='gzip', sep=\"\\t\")\n",
    "\n",
    "\n",
    "#Z-scores\n",
    "data_for_external_analysis = expression_data\n",
    "data_for_external_analysis['Cell_Sample'] = data_for_external_analysis['Accession'] + \"_\" + data_for_external_analysis['Cell_line']\n",
    "\n",
    "data_for_external_analysis = (data_for_external_analysis\n",
    "        .loc[:, ['Cell_Sample', 'target_id', 'z_score']]\n",
    "        .pivot(index=\"target_id\", columns='Cell_Sample', values='z_score')\n",
    "    )\n",
    "\n",
    "data_for_external_analysis['Cell_Sample'] = data_for_external_analysis.index\n",
    "first_column = data_for_external_analysis.pop('Cell_Sample')\n",
    "data_for_external_analysis.insert(0, 'Cell_Sample', first_column)\n",
    "\n",
    "#Write out the result\n",
    "external_analysis_file = 'external_analysis_data_z_score.tsv.gz'\n",
    "print(\"Writing results to: \" + external_analysis_file)\n",
    "data_for_external_analysis.to_csv(external_analysis_file, index=False, compression='gzip', sep=\"\\t\")\n",
    "\n",
    "del(data_for_external_analysis)\n",
    "del(first_column)"
   ]
  },
  {
   "cell_type": "markdown",
   "id": "ee7c4fbb-1f67-444d-8eb1-0a3a982ddf9e",
   "metadata": {},
   "source": [
    "## Logistic Regression"
   ]
  },
  {
   "cell_type": "code",
   "execution_count": null,
   "id": "381d5b45-bd5f-4f64-97ab-8a8429f8da23",
   "metadata": {},
   "outputs": [],
   "source": [
    "# Use seaborn to plot the class distribution\n",
    "plt.figure(figsize=(8, 6))\n",
    "sns.countplot(x='Differentiated', \n",
    "              data=expression_data[['Accession', 'Differentiated']].drop_duplicates())\n",
    "plt.title('Class distribution: 0=Undifferentiated, 1=Differentiated')\n",
    "plt.show()"
   ]
  },
  {
   "cell_type": "code",
   "execution_count": null,
   "id": "9ede57dd-c3ab-4dc2-bc74-39d48b235d78",
   "metadata": {},
   "outputs": [],
   "source": [
    "#Re-shape the expression data to a format usable by ML tools\n",
    "X = (expression_data\n",
    "        .loc[:, ['Accession', 'target_id', 'z_score']]\n",
    "        .pivot(index=\"Accession\", columns='target_id', values='z_score')\n",
    "        .to_numpy()\n",
    "    )\n",
    "\n",
    "#Determine the differentiation scores in a numpy format\n",
    "y = (expression_data\n",
    "        .loc[:, ['Accession', 'Differentiated']]\n",
    "        .drop_duplicates()\n",
    "        .loc[:, 'Differentiated']\n",
    "        .to_numpy()\n",
    "    )"
   ]
  },
  {
   "cell_type": "code",
   "execution_count": null,
   "id": "e5742728-8ed6-41e0-8c05-0a7f08890d59",
   "metadata": {},
   "outputs": [],
   "source": [
    "# Split the data\n",
    "#X_train, X_test, y_train, y_test = train_test_split(X, y, test_size=0.3, random_state=42)\n",
    "X_train, X_test, y_train, y_test = train_test_split(X, y, test_size=0.3)"
   ]
  },
  {
   "cell_type": "code",
   "execution_count": null,
   "id": "a0f772e0-e5fe-4404-a7b3-73d5bcf2c37c",
   "metadata": {},
   "outputs": [],
   "source": [
    "#Perform Logistic Regression\n",
    "lreg = LogisticRegression(solver='liblinear', max_iter=100, penalty='l1')\n",
    "lreg.fit(X_train, y_train)\n",
    "\n",
    "predicted = lreg.predict(X_test)\n",
    "expected = y_test\n",
    "\n",
    "predicted_probs = lreg.predict_proba(X_test)\n",
    "predicted_probs = predicted_probs[0:, 1]"
   ]
  },
  {
   "cell_type": "code",
   "execution_count": null,
   "id": "5831beb4-5919-4756-b4d9-0fa4045b074b",
   "metadata": {},
   "outputs": [],
   "source": [
    "# Calculate accuracy\n",
    "print('Training set accuracy: ', accuracy_score(y_train, lreg.predict(X_train)))\n",
    "acc = accuracy_score(expected, predicted)\n",
    "print('Test set accuracy: ', acc)\n",
    "\n",
    "# Calculate Cohen's Kappa score\n",
    "print('Training set Kappa: ', cohen_kappa_score(y_train, lreg.predict(X_train)))\n",
    "cka = cohen_kappa_score(expected, predicted)\n",
    "print('Test set Kappa: ', cka)"
   ]
  },
  {
   "cell_type": "code",
   "execution_count": null,
   "id": "126f7ad5-4199-4163-ab56-2b6142344e69",
   "metadata": {},
   "outputs": [],
   "source": [
    "# Generate a ROC AUC plot\n",
    "fpr, tpr, threshold = metrics.roc_curve(y_test, predicted)\n",
    "roc_auc = metrics.auc(fpr, tpr)\n",
    "\n",
    "plt.figure(figsize=(7,5))\n",
    "plt.title('Receiver Operating Characteristic')\n",
    "plt.plot(fpr, tpr, label = 'AUC = %0.2f' % roc_auc)\n",
    "plt.plot([0, 1], [0, 1],'r--', label = 'Random chance')\n",
    "plt.xlim([0, 1])\n",
    "plt.ylim([0, 1])\n",
    "plt.ylabel('True Positive Rate')\n",
    "plt.xlabel('False Positive Rate')\n",
    "plt.legend(loc = 'lower right')\n",
    "plt.show()"
   ]
  },
  {
   "cell_type": "code",
   "execution_count": null,
   "id": "d935e5bb-9248-4e47-853c-743c027f9199",
   "metadata": {},
   "outputs": [],
   "source": [
    "# Generate a PR plot\n",
    "precision, recall, _ = metrics.precision_recall_curve(y_test, predicted)\n",
    "\n",
    "plt.figure(figsize=(7,5))\n",
    "plt.step(recall, precision, where='post')\n",
    "plt.xlabel('Recall')\n",
    "plt.ylabel('Precision')\n",
    "plt.ylim([0.0, 1.05])\n",
    "plt.xlim([0.0, 1.0])\n",
    "plt.show()"
   ]
  },
  {
   "cell_type": "code",
   "execution_count": null,
   "id": "55f95a3e-2f14-4f0b-bca7-fa274a98c933",
   "metadata": {},
   "outputs": [],
   "source": [
    "#Confusion matrix\n",
    "cm = confusion_matrix(expected, predicted)\n",
    "\n",
    "plt.figure(figsize=(7,5))\n",
    "ax = plt.subplot()\n",
    "sns.heatmap(cm, annot=True, ax = ax, cmap=plt.cm.Blues, fmt='g')\n",
    "\n",
    "# labels, title and ticks\n",
    "ax.set_xlabel('Predicted labels')\n",
    "ax.set_ylabel('True labels')\n",
    "ax.set_title('Confusion Matrix')\n",
    "ax.xaxis.set_ticklabels(['Undifferentiated', 'Differentiated'])\n",
    "ax.yaxis.set_ticklabels(['Undifferentiated', 'Differentiated'])\n",
    "\n",
    "plt.show()"
   ]
  },
  {
   "cell_type": "code",
   "execution_count": null,
   "id": "e21e6fda-7827-4b49-a168-31b5fe8731e9",
   "metadata": {},
   "outputs": [],
   "source": [
    "# Plot the predicted target values against the true target values.\n",
    "correct_prediction = expected == predicted\n",
    "\n",
    "plt.figure(figsize=(7,5))\n",
    "plt.scatter(expected, predicted_probs, c=correct_prediction)\n",
    "plt.xlabel('Classification')\n",
    "plt.ylabel('Probability')\n",
    "plt.show()"
   ]
  },
  {
   "cell_type": "code",
   "execution_count": null,
   "id": "8e9c368e-615b-4dae-b12e-8ec74bc0f3ff",
   "metadata": {},
   "outputs": [],
   "source": [
    "plt.figure(figsize=(14,10))\n",
    "\n",
    "graph_data_1 = pd.DataFrame({\"Predicted\" : predicted_probs})\n",
    "graph_data_2 = pd.DataFrame({\"Differentiated\" : expected})\n",
    "\n",
    "graph_data_3 = pd.concat([graph_data_1, graph_data_2], axis=1) \n",
    "graph_data_3 = graph_data_3.sort_values(by=['Predicted'])\n",
    "\n",
    "graph_data_4 = pd.DataFrame({\"Counter\" : range(len(graph_data_3.index))})\n",
    "graph_data_5 = pd.concat([graph_data_4, graph_data_3], axis=1) \n",
    "\n",
    "plt.scatter(x=graph_data_5['Counter'], y=graph_data_5['Predicted'], c= graph_data_5['Differentiated'])\n",
    "#plt.xlabel('Classification')\n",
    "plt.xticks([])\n",
    "plt.axhline(y=0.5, color='r', linestyle='--')\n",
    "plt.axhline(y=1/3, color='r', linestyle=':')\n",
    "plt.axhline(y=2/3, color='r', linestyle=':')\n",
    "plt.ylabel('Probability')\n",
    "plt.show()"
   ]
  }
 ],
 "metadata": {
  "kernelspec": {
   "display_name": "Python 3",
   "language": "python",
   "name": "python3"
  },
  "language_info": {
   "codemirror_mode": {
    "name": "ipython",
    "version": 3
   },
   "file_extension": ".py",
   "mimetype": "text/x-python",
   "name": "python",
   "nbconvert_exporter": "python",
   "pygments_lexer": "ipython3",
   "version": "3.8.8"
  }
 },
 "nbformat": 4,
 "nbformat_minor": 5
}
