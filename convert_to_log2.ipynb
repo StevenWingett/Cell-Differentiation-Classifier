{
 "cells": [
  {
   "cell_type": "code",
   "execution_count": null,
   "id": "3bc74bca-b992-4169-97ba-1f47595932f6",
   "metadata": {},
   "outputs": [],
   "source": [
    "# Convert Nextflow expression matrix to log2 TPM+1"
   ]
  },
  {
   "cell_type": "code",
   "execution_count": null,
   "id": "6f7dd8f8-0755-4a8f-a026-143b1ab198bf",
   "metadata": {},
   "outputs": [],
   "source": [
    "import pandas as pd\n",
    "import numpy as np\n",
    "from matplotlib import pyplot as plt\n",
    "import seaborn as sns\n",
    "import os.path"
   ]
  },
  {
   "cell_type": "code",
   "execution_count": null,
   "id": "e9a1026d-5336-4b07-9630-1a2bea35c09a",
   "metadata": {},
   "outputs": [],
   "source": [
    "# Setup\n",
    "expression_data_file = 'salmon.merged.gene_tpm.tsv.gz'"
   ]
  },
  {
   "cell_type": "code",
   "execution_count": null,
   "id": "15b8a7dd-e095-4406-a651-0ced91cc3161",
   "metadata": {},
   "outputs": [],
   "source": [
    "# Read in data\n",
    "print(\"Reading in: \" + expression_data_file)\n",
    "expression_data = pd.read_csv(expression_data_file, sep=\"\\t\")\n",
    "print(f'Number of cell lines: {expression_data.shape[1] - 2}')\n",
    "print(f'Number of genes: {expression_data.shape[0]}')"
   ]
  },
  {
   "cell_type": "code",
   "execution_count": null,
   "id": "45fb3eaa-03b8-4347-939b-9153ecff60a2",
   "metadata": {},
   "outputs": [],
   "source": [
    "# Convert to log2 (TPM+1)\n",
    "expression_data.iloc[:, 2:] = np.log2(expression_data.iloc[:, 2:] + 1)"
   ]
  },
  {
   "cell_type": "code",
   "execution_count": null,
   "id": "3c0c9bfc-c694-4fb7-8d62-47e4980f3f0f",
   "metadata": {},
   "outputs": [],
   "source": [
    "# Write out output\n",
    "outfile = os.path.basename(expression_data_file)\n",
    "outfile = outfile.replace('.tsv.gz', '')\n",
    "outfile = f'{outfile}.log2_tmp_plus_1.tsv.gz'\n",
    "print(f'Writing results to: {outfile}')\n",
    "expression_data.to_csv(outfile, index=False, compression='gzip', sep=\"\\t\")"
   ]
  },
  {
   "cell_type": "code",
   "execution_count": null,
   "id": "642da1b1-5671-470b-ad27-1f5895073c6c",
   "metadata": {},
   "outputs": [],
   "source": [
    "print('Done')"
   ]
  }
 ],
 "metadata": {
  "kernelspec": {
   "display_name": "Python 3 (ipykernel)",
   "language": "python",
   "name": "python3"
  },
  "language_info": {
   "codemirror_mode": {
    "name": "ipython",
    "version": 3
   },
   "file_extension": ".py",
   "mimetype": "text/x-python",
   "name": "python",
   "nbconvert_exporter": "python",
   "pygments_lexer": "ipython3",
   "version": "3.8.8"
  }
 },
 "nbformat": 4,
 "nbformat_minor": 5
}
