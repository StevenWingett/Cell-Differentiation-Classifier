{
 "cells": [
  {
   "cell_type": "code",
   "execution_count": null,
   "id": "e3e115b8-cbad-45c6-8800-ea4ad41403c2",
   "metadata": {},
   "outputs": [],
   "source": [
    "# Select accessions based on retention ID"
   ]
  },
  {
   "cell_type": "code",
   "execution_count": null,
   "id": "5f4cd28e-32f4-4104-bc31-6603a4f4ff6f",
   "metadata": {},
   "outputs": [],
   "source": [
    "import pandas as pd\n",
    "import numpy as np\n",
    "import os.path"
   ]
  },
  {
   "cell_type": "code",
   "execution_count": null,
   "id": "07710ff0-4ace-461c-b79e-120fd358db79",
   "metadata": {},
   "outputs": [],
   "source": [
    "# Setup\n",
    "\n",
    "# Input dataset\n",
    "#expression_data_file = 'salmon.merged.gene_tpm.log2_tmp_plus_1.downsized.tsv.gz'\n",
    "expression_data_file = 'salmon.merged.gene_tpm.log2_tmp_plus_1.tsv.gz'\n",
    "\n",
    "# Metadata\n",
    "metadata_file = 'dataset_summary.tsv'\n",
    "\n",
    "# Retention Groups\n",
    "retention_groups = [0]"
   ]
  },
  {
   "cell_type": "code",
   "execution_count": null,
   "id": "6d11c899-1965-49d7-912c-4ef8ba6fd0c2",
   "metadata": {},
   "outputs": [],
   "source": [
    "# Read in data\n",
    "print(\"Reading in metadata: \" + metadata_file)\n",
    "metadata = pd.read_csv(metadata_file, sep=\"\\t\")\n",
    "print(f'Metadata number of Accessions: {metadata.shape[0]}')\n",
    "print()\n",
    "print(\"Reading in: \" + expression_data_file)\n",
    "expression_data = pd.read_csv(expression_data_file, sep=\"\\t\")\n",
    "print(f'Expression data number of Accessions: {expression_data.shape[1] - 2}')"
   ]
  },
  {
   "cell_type": "code",
   "execution_count": null,
   "id": "d5e780a4-19e1-43d8-b5a0-94347667b2bc",
   "metadata": {},
   "outputs": [],
   "source": [
    "# Filter by retention group\n",
    "boolean_to_select = metadata['Retention_group'].isin(retention_groups)\n",
    "\n",
    "accessions_to_select = (metadata\n",
    "                           .loc[boolean_to_select, :]\n",
    "                           .loc[:, 'Accession']\n",
    "                      )\n",
    "print(f'Number of accessions to select: {len(accessions_to_select)}')\n",
    "\n",
    "boolean_to_select = (expression_data\n",
    "                         .iloc[:, 2:]\n",
    "                         .columns\n",
    "                         .to_series()\n",
    "                         .isin(accessions_to_select)\n",
    "                         .to_list()\n",
    "                    )\n",
    "\n",
    "boolean_to_select = [True, True] + boolean_to_select   #Select first  columns\n",
    "expression_data = expression_data.loc[:, boolean_to_select]\n",
    "\n",
    "print(f'Number of accessions selected: {expression_data.shape[1] - 2}')"
   ]
  },
  {
   "cell_type": "code",
   "execution_count": null,
   "id": "72bedfa4-94b1-4745-93b1-f112fcbe00ef",
   "metadata": {},
   "outputs": [],
   "source": [
    "# Write out results\n",
    "outfile = os.path.basename(expression_data_file)\n",
    "outfile = outfile.replace('.tsv.gz', '')\n",
    "outfile = f'{outfile}.retention_group_filtered.tsv.gz'\n",
    "print(f'Writing results to: {outfile}')\n",
    "expression_data.to_csv(outfile, index=False, compression='gzip', sep=\"\\t\")"
   ]
  },
  {
   "cell_type": "code",
   "execution_count": null,
   "id": "f025bba7-9e70-4686-aa1c-8969ba69a41d",
   "metadata": {},
   "outputs": [],
   "source": [
    "print('Done')"
   ]
  }
 ],
 "metadata": {
  "kernelspec": {
   "display_name": "Python 3 (ipykernel)",
   "language": "python",
   "name": "python3"
  },
  "language_info": {
   "codemirror_mode": {
    "name": "ipython",
    "version": 3
   },
   "file_extension": ".py",
   "mimetype": "text/x-python",
   "name": "python",
   "nbconvert_exporter": "python",
   "pygments_lexer": "ipython3",
   "version": "3.8.8"
  }
 },
 "nbformat": 4,
 "nbformat_minor": 5
}
