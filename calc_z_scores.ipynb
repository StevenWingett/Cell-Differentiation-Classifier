{
 "cells": [
  {
   "cell_type": "code",
   "execution_count": null,
   "id": "09e81a4a-f810-4c4f-89cf-81a9efd9af62",
   "metadata": {},
   "outputs": [],
   "source": [
    "# Imports and coolates expression data with metadata.\n",
    "# Calculates z-scores and outputs results for input for classifier script"
   ]
  },
  {
   "cell_type": "code",
   "execution_count": null,
   "id": "b08abf84-e78f-4f06-a159-282cbfaee414",
   "metadata": {
    "tags": []
   },
   "outputs": [],
   "source": [
    "import pandas as pd\n",
    "import numpy as np\n",
    "import scipy.stats\n",
    "import os.path"
   ]
  },
  {
   "cell_type": "code",
   "execution_count": null,
   "id": "35b76842-8d84-490d-b59b-077b1e78e1aa",
   "metadata": {},
   "outputs": [],
   "source": [
    "# Setup\n",
    "\n",
    "# Input dataset\n",
    "#expression_data_file = 'salmon.merged.gene_tpm.log2_tmp_plus_1.downsized.tsv.gz'\n",
    "expression_data_file = 'salmon.merged.gene_tpm.log2_tmp_plus_1.retention_group_filtered.tsv.gz'\n"
   ]
  },
  {
   "cell_type": "code",
   "execution_count": null,
   "id": "d0880e92-5129-4ee9-b043-4629f19c53fc",
   "metadata": {},
   "outputs": [],
   "source": [
    "# Read in data\n",
    "print(\"Reading in: \" + expression_data_file)\n",
    "expression_data = pd.read_csv(expression_data_file, sep=\"\\t\")\n",
    "print(f'Number of cell lines: {expression_data.shape[1] - 2}')\n",
    "print(f'Number of genes: {expression_data.shape[0]}')"
   ]
  },
  {
   "cell_type": "code",
   "execution_count": null,
   "id": "fe9265c2-26de-481d-afe8-9f34a4a655df",
   "metadata": {},
   "outputs": [],
   "source": [
    "#Calculate z-scores\n",
    "z_scores = (expression_data.iloc[:, 2:]\n",
    "                .to_numpy()\n",
    "           )\n",
    "\n",
    "z_scores = scipy.stats.zscore(z_scores, axis=1)\n",
    "z_scores = pd.DataFrame(z_scores)  \n",
    "\n",
    "z_scores = pd.concat([expression_data.iloc[:, 0:2], z_scores], \n",
    "                     axis=1,\n",
    "                     ignore_index=True)\n",
    "\n",
    "z_scores.columns = expression_data.columns"
   ]
  },
  {
   "cell_type": "code",
   "execution_count": null,
   "id": "0975da2f-d7bd-4b78-b3d6-f9d43cf67a90",
   "metadata": {},
   "outputs": [],
   "source": [
    "# Calculate mean and population standard deviation for each gene\n",
    "# for use by the script that makes novel prediction (without using training data)\n",
    "# These values are needed to calculate z-scores\n",
    "means = (expression_data\n",
    "            .iloc[:, 2:]\n",
    "            .mean(axis=1)\n",
    "        )\n",
    "\n",
    "pop_std = (expression_data\n",
    "            .iloc[:, 2:]\n",
    "            .std(axis=1, ddof=0)\n",
    "        )\n",
    "\n",
    "means_stds = pd.concat([expression_data.loc[:, 'gene_id'],\n",
    "                        means,\n",
    "                        pop_std], axis=1)\n",
    "\n",
    "means_stds.columns = ['gene_id', 'expression_mean', 'expression_pop_std']"
   ]
  },
  {
   "cell_type": "code",
   "execution_count": null,
   "id": "7cf4368b-518f-4d27-a143-a460cc6f40c0",
   "metadata": {},
   "outputs": [],
   "source": [
    "# Write out output\n",
    "outfile = os.path.basename(expression_data_file)\n",
    "outfile = outfile.replace('.tsv.gz', '')\n",
    "outfile = f'{outfile}.z_scores.tsv.gz'\n",
    "print(f'Writing results to: {outfile}')\n",
    "z_scores.to_csv(outfile, index=False, compression='gzip', sep=\"\\t\")\n",
    "\n",
    "outfile = os.path.basename(expression_data_file)\n",
    "outfile = outfile.replace('.tsv.gz', '')\n",
    "outfile = f'{outfile}.means_stds.tsv.gz'\n",
    "print(f'Writing out gene expression means and standard deviations to: {outfile}')\n",
    "means_stds.to_csv(outfile, index=False, compression='gzip', sep=\"\\t\") "
   ]
  },
  {
   "cell_type": "code",
   "execution_count": null,
   "id": "82c5b844-0d6d-4b18-bc34-06e0e7b07e65",
   "metadata": {},
   "outputs": [],
   "source": [
    "print('Done')"
   ]
  }
 ],
 "metadata": {
  "kernelspec": {
   "display_name": "Python 3 (ipykernel)",
   "language": "python",
   "name": "python3"
  },
  "language_info": {
   "codemirror_mode": {
    "name": "ipython",
    "version": 3
   },
   "file_extension": ".py",
   "mimetype": "text/x-python",
   "name": "python",
   "nbconvert_exporter": "python",
   "pygments_lexer": "ipython3",
   "version": "3.8.8"
  }
 },
 "nbformat": 4,
 "nbformat_minor": 5
}
