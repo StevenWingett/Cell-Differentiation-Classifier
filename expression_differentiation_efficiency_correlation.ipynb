{
 "cells": [
  {
   "cell_type": "code",
   "execution_count": null,
   "id": "ec8bc122-330a-4c65-b704-0cf3ace53a61",
   "metadata": {},
   "outputs": [],
   "source": [
    "# Determine for each gene how expression correlates with differentiation efficiency\n",
    "# (see Jerber paper fig3)"
   ]
  },
  {
   "cell_type": "code",
   "execution_count": null,
   "id": "866f37b3-910f-4aa2-b95c-206019a1f712",
   "metadata": {},
   "outputs": [],
   "source": [
    "import pandas as pd\n",
    "import numpy as np\n",
    "from matplotlib import pyplot as plt\n",
    "import seaborn as sns\n",
    "import scipy.stats\n",
    "import statsmodels.stats.multitest as sm\n",
    "import os.path"
   ]
  },
  {
   "cell_type": "code",
   "execution_count": null,
   "id": "13a10a4c-89ee-46e1-8665-0a0a2fb5e75f",
   "metadata": {},
   "outputs": [],
   "source": [
    "# Setup\n",
    "\n",
    "# Input dataset\n",
    "expression_data_file = 'salmon.merged.gene_tpm.log2_tmp_plus_1.retention_group_filtered.tsv.gz'\n",
    "\n",
    "# Metadata\n",
    "metadata_file = 'dataset_summary.tsv'\n",
    "\n",
    "# FDR\n",
    "fdr_threshold = 0.05\n",
    "\n",
    "# TPM\n",
    "log2_tpm_threshold = 0.1"
   ]
  },
  {
   "cell_type": "code",
   "execution_count": null,
   "id": "f86327b3-b82f-4e13-b0d6-99494ee230f1",
   "metadata": {},
   "outputs": [],
   "source": [
    "# Read in data\n",
    "print(\"Reading in metadata: \" + metadata_file)\n",
    "metadata = pd.read_csv(metadata_file, sep=\"\\t\")\n",
    "\n",
    "print(\"Reading in: \" + expression_data_file)\n",
    "expression_data = pd.read_csv(expression_data_file, sep=\"\\t\")\n",
    "print(f'Number of cell lines: {expression_data.shape[1] - 2}')\n",
    "print(f'Number of genes: {expression_data.shape[0]}')"
   ]
  },
  {
   "cell_type": "code",
   "execution_count": null,
   "id": "38e0d755-172a-452d-8883-39113661cffd",
   "metadata": {},
   "outputs": [],
   "source": [
    "# Identify the appropropiate differentiation efficiencies\n",
    "accessions_to_select = expression_data.columns[2:]    #Ignore first 2 columns\n",
    "\n",
    "differentiation_efficiency = (metadata\n",
    "                                .loc[:, ['Accession', 'Diff_efficiency']]\n",
    "                                .set_index(keys='Accession', drop=True)\n",
    "                                .loc[accessions_to_select, :]   # Select in order \n",
    "                             )"
   ]
  },
  {
   "cell_type": "code",
   "execution_count": null,
   "id": "347c3f7f-2613-48c7-a11e-759e2f004bb7",
   "metadata": {},
   "outputs": [],
   "source": [
    "# Plot scatter plot for individual gene\n",
    "#target_gene_id = 'ENSG00000000003'\n",
    "target_gene_id = 'ENSG00000171794'\n",
    "#target_gene_id = 'ENSG00000166863'\n",
    "\n",
    "target_gene_expression_data = (expression_data\n",
    "                                .query('gene_id == @target_gene_id')\n",
    "                                .iloc[:, 2:]   # Remove gene id, name\n",
    "                                .transpose()                        \n",
    "                              )\n",
    "\n",
    "target_gene_expression_data.columns = ['Expression']\n",
    "\n",
    "expression_differentiation = target_gene_expression_data.join(differentiation_efficiency)\n",
    "exp_diff_correlation = (expression_differentiation\n",
    "                        .corr(method='pearson')\n",
    "                        .iloc[1,0]\n",
    "                       )\n",
    "\n",
    "(exp_diff_correlation, \n",
    " exp_diff_correlation_pvalue) = scipy.stats.pearsonr(\n",
    "                                    expression_differentiation['Expression'],\n",
    "                                    expression_differentiation['Diff_efficiency']\n",
    "                                )\n",
    "\n",
    "gene_name = (expression_data\n",
    "                .query('gene_id == @target_gene_id')\n",
    "                .loc[:, 'gene_name']\n",
    "                .iloc[0]\n",
    "            )\n",
    "\n",
    "plt.figure(figsize=(7,7))\n",
    "sns.regplot(x=\"Diff_efficiency\", y=\"Expression\", data=expression_differentiation)\n",
    "\n",
    "plt.title(f'{gene_name} ({target_gene_id})\\nR: {round(exp_diff_correlation,3)}\\np: {round(exp_diff_correlation_pvalue,3)}')\n",
    "plt.xlabel('Differentiation Efficiency')\n",
    "plt.ylabel('Expression Log2(TMP+1)')\n",
    "plt.xlim(0, 1)\n",
    "#plt.ylim(0, 10)\n",
    "plt.show()"
   ]
  },
  {
   "cell_type": "code",
   "execution_count": null,
   "id": "f3a5c714-df99-4056-a1f1-69e6a3b3370f",
   "metadata": {},
   "outputs": [],
   "source": [
    "# Log2 tpm histogram\n",
    "plot_data = (expression_data\n",
    "                .iloc[:, 2:]\n",
    "                .to_numpy()\n",
    "                .flatten()\n",
    "            )\n",
    "\n",
    "plt.figure(figsize=(7,7))\n",
    "plt.hist(plot_data, bins=100)\n",
    "plt.xlabel('Log2(TPM + 1)')\n",
    "plt.ylabel('Frequency')\n",
    "plt.axvline(log2_tpm_threshold, color='r', linestyle='--')\n",
    "plt.show()"
   ]
  },
  {
   "cell_type": "code",
   "execution_count": null,
   "id": "72912f32-9921-4122-a7a3-a159d4b9b5c1",
   "metadata": {},
   "outputs": [],
   "source": [
    "# Cumulative distribution plot\n",
    "plt.figure(figsize=(7,7))\n",
    "plot=sns.ecdfplot(data=expression_data.iloc[:, 2:], legend=False)\n",
    "plt.xlabel('Log2(TPM + 1)')\n",
    "plt.axvline(log2_tpm_threshold, color='r', linestyle='--')\n",
    "plt.show()"
   ]
  },
  {
   "cell_type": "code",
   "execution_count": null,
   "id": "fb9c0040-4b26-42a9-b79a-ca4ce5a45a21",
   "metadata": {},
   "outputs": [],
   "source": [
    "# Apply filtering of expression values\n",
    "print(f'Number of genes before filtering: {expression_data.shape[0]}')\n",
    "to_select_boolean = expression_data.iloc[:, 2:].max(axis=1)>= log2_tpm_threshold\n",
    "expression_data = expression_data[to_select_boolean]\n",
    "print(f'Number of genes after filtering: {expression_data.shape[0]}')\n"
   ]
  },
  {
   "cell_type": "code",
   "execution_count": null,
   "id": "01b9356d-44c8-4e46-a059-4a5bc59156b0",
   "metadata": {},
   "outputs": [],
   "source": [
    "# Log2 tpm histogram after filtering\n",
    "plot_data = (expression_data\n",
    "                .iloc[:, 2:]\n",
    "                .to_numpy()\n",
    "                .flatten()\n",
    "            )\n",
    "\n",
    "plt.figure(figsize=(7,7))\n",
    "plt.hist(plot_data, bins=100)\n",
    "plt.xlabel('Log2(TPM + 1)')\n",
    "plt.ylabel('Frequency')\n",
    "plt.axvline(log2_tpm_threshold, color='r', linestyle='--')\n",
    "plt.show()"
   ]
  },
  {
   "cell_type": "code",
   "execution_count": null,
   "id": "c64e6e86-004d-4c66-ae3f-4d65c1eef6cc",
   "metadata": {},
   "outputs": [],
   "source": [
    "# Cumulative distribution plot after filtering\n",
    "plt.figure(figsize=(7,7))\n",
    "plot=sns.ecdfplot(data=expression_data.iloc[:, 2:], legend=False)\n",
    "plt.xlabel('Log2(TPM + 1)')\n",
    "plt.axvline(log2_tpm_threshold, color='r', linestyle='--')\n",
    "plt.show()"
   ]
  },
  {
   "cell_type": "code",
   "execution_count": null,
   "id": "4841689b-d2db-4003-8f44-86b3efbc654b",
   "metadata": {},
   "outputs": [],
   "source": [
    "# Determine correlation and p-values for all genes\n",
    "\n",
    "column_names = ['target_gene_id', 'gene_name', 'R', 'p']\n",
    "correlation_results = pd.DataFrame(columns = column_names)\n",
    "\n",
    "for target_gene_id in expression_data['gene_id']:\n",
    "    #print(target_gene_id)\n",
    "\n",
    "    target_gene_expression_data = (expression_data\n",
    "                                    .query('gene_id == @target_gene_id')                      \n",
    "                                  )\n",
    "\n",
    "    gene_name = (target_gene_expression_data\n",
    "                    .loc[:, 'gene_name']\n",
    "                    .iloc[0]\n",
    "                )\n",
    "\n",
    "    target_gene_expression_data = (target_gene_expression_data\n",
    "                                    .iloc[:, 2:]   # Remove gene id, name\n",
    "                                    .transpose()                        \n",
    "                                  )\n",
    "\n",
    "    target_gene_expression_data.columns = ['Expression']\n",
    "\n",
    "    expression_differentiation = target_gene_expression_data.join(differentiation_efficiency)\n",
    "    exp_diff_correlation = (expression_differentiation\n",
    "                            .corr(method='pearson')\n",
    "                            .iloc[1,0]\n",
    "                           )\n",
    "\n",
    "    (exp_diff_correlation, \n",
    "     exp_diff_correlation_pvalue) = scipy.stats.pearsonr(\n",
    "                                        expression_differentiation['Expression'],\n",
    "                                        expression_differentiation['Diff_efficiency']\n",
    "                                    )\n",
    "\n",
    "    result_to_append = pd.DataFrame([\n",
    "                                    target_gene_id, \n",
    "                                    gene_name, \n",
    "                                    exp_diff_correlation, \n",
    "                                    exp_diff_correlation_pvalue]\n",
    "                                 )\n",
    "\n",
    "    result_to_append = result_to_append.transpose()\n",
    "    result_to_append.columns = column_names\n",
    "\n",
    "    correlation_results = pd.concat([correlation_results, result_to_append])\n",
    "\n",
    "correlation_results = correlation_results.reset_index(drop=True)"
   ]
  },
  {
   "cell_type": "code",
   "execution_count": null,
   "id": "87b82ecc-8930-4866-9954-58acf0011538",
   "metadata": {},
   "outputs": [],
   "source": [
    "# Calculate Benjamini-Hochberg\n",
    "p_values = (correlation_results['p']\n",
    "                .to_numpy()\n",
    "                .astype(float)\n",
    "           )\n",
    "\n",
    "q_values = sm.multipletests(p_values, \n",
    "                            alpha=0.05, \n",
    "                            method='fdr_bh', \n",
    "                            is_sorted=False, \n",
    "                            returnsorted=False)\n",
    "\n",
    "q_values = q_values[1]  # Get list of q-values from tuple\n",
    "correlation_results['q'] = q_values"
   ]
  },
  {
   "cell_type": "code",
   "execution_count": null,
   "id": "807ebb7d-2e6e-4631-abc0-75f3d4fc0ba6",
   "metadata": {
    "tags": []
   },
   "outputs": [],
   "source": [
    "# Plot a histogram of the results\n",
    "\n",
    "# Determine R when fdr = threshold\n",
    "min_r = (correlation_results\n",
    "                .loc[:, ['R', 'q']]\n",
    "                .query('R < 0')\n",
    "                .query('q <= @fdr_threshold')\n",
    "                .loc[:, ['R']]\n",
    "                .max()\n",
    "                .iloc[0]\n",
    "        )\n",
    "\n",
    "max_r = (correlation_results\n",
    "                .loc[:, ['R', 'q']]\n",
    "                .query('R > 0')\n",
    "                .query('q <= @fdr_threshold')\n",
    "                .loc[:, ['R']]\n",
    "                .min() \n",
    "                .iloc[0]\n",
    "        )\n",
    "\n",
    "#Plot\n",
    "plt.figure(figsize=(7,7))\n",
    "sns.histplot(data=correlation_results, x='R')\n",
    "plt.axvline(min_r, color='r', linestyle='--')\n",
    "plt.axvline(max_r, color='r', linestyle='--')\n",
    "plt.show()"
   ]
  },
  {
   "cell_type": "code",
   "execution_count": null,
   "id": "386f7fa0-e280-45cb-993d-a089d8ebbc33",
   "metadata": {},
   "outputs": [],
   "source": [
    "# Write out results\n",
    "outfile = os.path.basename(expression_data_file)\n",
    "outfile = outfile.replace('.tsv.gz', '')\n",
    "outfile = f'{outfile}.correlation.tsv.gz'\n",
    "print(f'Writing results to: {outfile}')\n",
    "correlation_results.to_csv(outfile, index=False, compression='gzip', sep=\"\\t\")"
   ]
  },
  {
   "cell_type": "code",
   "execution_count": null,
   "id": "d31b697e-ba5b-4745-a9f8-74dcc989c946",
   "metadata": {},
   "outputs": [],
   "source": [
    "print('Done')"
   ]
  },
  {
   "cell_type": "code",
   "execution_count": null,
   "id": "0d20df38-2cce-4b2a-964f-57dd10e6e5bb",
   "metadata": {},
   "outputs": [],
   "source": []
  }
 ],
 "metadata": {
  "kernelspec": {
   "display_name": "Python 3 (ipykernel)",
   "language": "python",
   "name": "python3"
  },
  "language_info": {
   "codemirror_mode": {
    "name": "ipython",
    "version": 3
   },
   "file_extension": ".py",
   "mimetype": "text/x-python",
   "name": "python",
   "nbconvert_exporter": "python",
   "pygments_lexer": "ipython3",
   "version": "3.8.8"
  }
 },
 "nbformat": 4,
 "nbformat_minor": 5
}
